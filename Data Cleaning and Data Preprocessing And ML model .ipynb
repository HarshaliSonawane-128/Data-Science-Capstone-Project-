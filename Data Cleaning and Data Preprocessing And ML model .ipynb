{
 "cells": [
  {
   "cell_type": "markdown",
   "id": "054df6c2",
   "metadata": {},
   "source": [
    "## Import Python Libraries "
   ]
  },
  {
   "cell_type": "code",
   "execution_count": 145,
   "id": "19a37383",
   "metadata": {},
   "outputs": [],
   "source": [
    "import pandas as pd \n",
    "import numpy as np\n",
    "import matplotlib.pyplot as plt\n",
    "import seaborn as sns\n",
    "import warnings \n",
    "warnings.filterwarnings('ignore')\n",
    "%matplotlib inline \n",
    "from sklearn.preprocessing import LabelEncoder\n",
    "from sklearn.model_selection import train_test_split \n",
    "from sklearn.linear_model import LinearRegression  \n",
    "from sklearn.linear_model import Lasso\n",
    "from sklearn import metrics   \n"
   ]
  },
  {
   "cell_type": "markdown",
   "id": "959ae322",
   "metadata": {},
   "source": [
    "## Read Dataset"
   ]
  },
  {
   "cell_type": "code",
   "execution_count": 146,
   "id": "554e90fb",
   "metadata": {},
   "outputs": [
    {
     "data": {
      "text/html": [
       "<div>\n",
       "<style scoped>\n",
       "    .dataframe tbody tr th:only-of-type {\n",
       "        vertical-align: middle;\n",
       "    }\n",
       "\n",
       "    .dataframe tbody tr th {\n",
       "        vertical-align: top;\n",
       "    }\n",
       "\n",
       "    .dataframe thead th {\n",
       "        text-align: right;\n",
       "    }\n",
       "</style>\n",
       "<table border=\"1\" class=\"dataframe\">\n",
       "  <thead>\n",
       "    <tr style=\"text-align: right;\">\n",
       "      <th></th>\n",
       "      <th>name</th>\n",
       "      <th>year</th>\n",
       "      <th>selling_price</th>\n",
       "      <th>km_driven</th>\n",
       "      <th>fuel</th>\n",
       "      <th>seller_type</th>\n",
       "      <th>transmission</th>\n",
       "      <th>owner</th>\n",
       "    </tr>\n",
       "  </thead>\n",
       "  <tbody>\n",
       "    <tr>\n",
       "      <th>0</th>\n",
       "      <td>Maruti 800 AC</td>\n",
       "      <td>2007</td>\n",
       "      <td>60000</td>\n",
       "      <td>70000</td>\n",
       "      <td>Petrol</td>\n",
       "      <td>Individual</td>\n",
       "      <td>Manual</td>\n",
       "      <td>First Owner</td>\n",
       "    </tr>\n",
       "    <tr>\n",
       "      <th>1</th>\n",
       "      <td>Maruti Wagon R LXI Minor</td>\n",
       "      <td>2007</td>\n",
       "      <td>135000</td>\n",
       "      <td>50000</td>\n",
       "      <td>Petrol</td>\n",
       "      <td>Individual</td>\n",
       "      <td>Manual</td>\n",
       "      <td>First Owner</td>\n",
       "    </tr>\n",
       "    <tr>\n",
       "      <th>2</th>\n",
       "      <td>Hyundai Verna 1.6 SX</td>\n",
       "      <td>2012</td>\n",
       "      <td>600000</td>\n",
       "      <td>100000</td>\n",
       "      <td>Diesel</td>\n",
       "      <td>Individual</td>\n",
       "      <td>Manual</td>\n",
       "      <td>First Owner</td>\n",
       "    </tr>\n",
       "    <tr>\n",
       "      <th>3</th>\n",
       "      <td>Datsun RediGO T Option</td>\n",
       "      <td>2017</td>\n",
       "      <td>250000</td>\n",
       "      <td>46000</td>\n",
       "      <td>Petrol</td>\n",
       "      <td>Individual</td>\n",
       "      <td>Manual</td>\n",
       "      <td>First Owner</td>\n",
       "    </tr>\n",
       "    <tr>\n",
       "      <th>4</th>\n",
       "      <td>Honda Amaze VX i-DTEC</td>\n",
       "      <td>2014</td>\n",
       "      <td>450000</td>\n",
       "      <td>141000</td>\n",
       "      <td>Diesel</td>\n",
       "      <td>Individual</td>\n",
       "      <td>Manual</td>\n",
       "      <td>Second Owner</td>\n",
       "    </tr>\n",
       "  </tbody>\n",
       "</table>\n",
       "</div>"
      ],
      "text/plain": [
       "                       name  year  selling_price  km_driven    fuel  \\\n",
       "0             Maruti 800 AC  2007          60000      70000  Petrol   \n",
       "1  Maruti Wagon R LXI Minor  2007         135000      50000  Petrol   \n",
       "2      Hyundai Verna 1.6 SX  2012         600000     100000  Diesel   \n",
       "3    Datsun RediGO T Option  2017         250000      46000  Petrol   \n",
       "4     Honda Amaze VX i-DTEC  2014         450000     141000  Diesel   \n",
       "\n",
       "  seller_type transmission         owner  \n",
       "0  Individual       Manual   First Owner  \n",
       "1  Individual       Manual   First Owner  \n",
       "2  Individual       Manual   First Owner  \n",
       "3  Individual       Manual   First Owner  \n",
       "4  Individual       Manual  Second Owner  "
      ]
     },
     "execution_count": 146,
     "metadata": {},
     "output_type": "execute_result"
    }
   ],
   "source": [
    "df = pd.read_csv('CAR DETAILS.csv')\n",
    "\n",
    "df.head()"
   ]
  },
  {
   "cell_type": "code",
   "execution_count": 147,
   "id": "ad8baf5f",
   "metadata": {},
   "outputs": [
    {
     "data": {
      "text/plain": [
       "(4340, 8)"
      ]
     },
     "execution_count": 147,
     "metadata": {},
     "output_type": "execute_result"
    }
   ],
   "source": [
    "df.shape"
   ]
  },
  {
   "cell_type": "code",
   "execution_count": 148,
   "id": "2c5634b7",
   "metadata": {},
   "outputs": [
    {
     "data": {
      "text/html": [
       "<div>\n",
       "<style scoped>\n",
       "    .dataframe tbody tr th:only-of-type {\n",
       "        vertical-align: middle;\n",
       "    }\n",
       "\n",
       "    .dataframe tbody tr th {\n",
       "        vertical-align: top;\n",
       "    }\n",
       "\n",
       "    .dataframe thead th {\n",
       "        text-align: right;\n",
       "    }\n",
       "</style>\n",
       "<table border=\"1\" class=\"dataframe\">\n",
       "  <thead>\n",
       "    <tr style=\"text-align: right;\">\n",
       "      <th></th>\n",
       "      <th>name</th>\n",
       "      <th>year</th>\n",
       "      <th>selling_price</th>\n",
       "      <th>km_driven</th>\n",
       "      <th>fuel</th>\n",
       "      <th>seller_type</th>\n",
       "      <th>transmission</th>\n",
       "      <th>owner</th>\n",
       "    </tr>\n",
       "  </thead>\n",
       "  <tbody>\n",
       "    <tr>\n",
       "      <th>0</th>\n",
       "      <td>Maruti 800 AC</td>\n",
       "      <td>2007</td>\n",
       "      <td>60000</td>\n",
       "      <td>70000</td>\n",
       "      <td>Petrol</td>\n",
       "      <td>Individual</td>\n",
       "      <td>Manual</td>\n",
       "      <td>First Owner</td>\n",
       "    </tr>\n",
       "    <tr>\n",
       "      <th>1</th>\n",
       "      <td>Maruti Wagon R LXI Minor</td>\n",
       "      <td>2007</td>\n",
       "      <td>135000</td>\n",
       "      <td>50000</td>\n",
       "      <td>Petrol</td>\n",
       "      <td>Individual</td>\n",
       "      <td>Manual</td>\n",
       "      <td>First Owner</td>\n",
       "    </tr>\n",
       "    <tr>\n",
       "      <th>2</th>\n",
       "      <td>Hyundai Verna 1.6 SX</td>\n",
       "      <td>2012</td>\n",
       "      <td>600000</td>\n",
       "      <td>100000</td>\n",
       "      <td>Diesel</td>\n",
       "      <td>Individual</td>\n",
       "      <td>Manual</td>\n",
       "      <td>First Owner</td>\n",
       "    </tr>\n",
       "    <tr>\n",
       "      <th>3</th>\n",
       "      <td>Datsun RediGO T Option</td>\n",
       "      <td>2017</td>\n",
       "      <td>250000</td>\n",
       "      <td>46000</td>\n",
       "      <td>Petrol</td>\n",
       "      <td>Individual</td>\n",
       "      <td>Manual</td>\n",
       "      <td>First Owner</td>\n",
       "    </tr>\n",
       "    <tr>\n",
       "      <th>4</th>\n",
       "      <td>Honda Amaze VX i-DTEC</td>\n",
       "      <td>2014</td>\n",
       "      <td>450000</td>\n",
       "      <td>141000</td>\n",
       "      <td>Diesel</td>\n",
       "      <td>Individual</td>\n",
       "      <td>Manual</td>\n",
       "      <td>Second Owner</td>\n",
       "    </tr>\n",
       "  </tbody>\n",
       "</table>\n",
       "</div>"
      ],
      "text/plain": [
       "                       name  year  selling_price  km_driven    fuel  \\\n",
       "0             Maruti 800 AC  2007          60000      70000  Petrol   \n",
       "1  Maruti Wagon R LXI Minor  2007         135000      50000  Petrol   \n",
       "2      Hyundai Verna 1.6 SX  2012         600000     100000  Diesel   \n",
       "3    Datsun RediGO T Option  2017         250000      46000  Petrol   \n",
       "4     Honda Amaze VX i-DTEC  2014         450000     141000  Diesel   \n",
       "\n",
       "  seller_type transmission         owner  \n",
       "0  Individual       Manual   First Owner  \n",
       "1  Individual       Manual   First Owner  \n",
       "2  Individual       Manual   First Owner  \n",
       "3  Individual       Manual   First Owner  \n",
       "4  Individual       Manual  Second Owner  "
      ]
     },
     "execution_count": 148,
     "metadata": {},
     "output_type": "execute_result"
    }
   ],
   "source": [
    "df.head()"
   ]
  },
  {
   "cell_type": "code",
   "execution_count": 149,
   "id": "04172caf",
   "metadata": {},
   "outputs": [
    {
     "name": "stdout",
     "output_type": "stream",
     "text": [
      "<class 'pandas.core.frame.DataFrame'>\n",
      "RangeIndex: 4340 entries, 0 to 4339\n",
      "Data columns (total 8 columns):\n",
      " #   Column         Non-Null Count  Dtype \n",
      "---  ------         --------------  ----- \n",
      " 0   name           4340 non-null   object\n",
      " 1   year           4340 non-null   int64 \n",
      " 2   selling_price  4340 non-null   int64 \n",
      " 3   km_driven      4340 non-null   int64 \n",
      " 4   fuel           4340 non-null   object\n",
      " 5   seller_type    4340 non-null   object\n",
      " 6   transmission   4340 non-null   object\n",
      " 7   owner          4340 non-null   object\n",
      "dtypes: int64(3), object(5)\n",
      "memory usage: 271.4+ KB\n"
     ]
    }
   ],
   "source": [
    "df.info()"
   ]
  },
  {
   "cell_type": "code",
   "execution_count": 150,
   "id": "115f1cf5",
   "metadata": {},
   "outputs": [
    {
     "data": {
      "text/plain": [
       "name             0\n",
       "year             0\n",
       "selling_price    0\n",
       "km_driven        0\n",
       "fuel             0\n",
       "seller_type      0\n",
       "transmission     0\n",
       "owner            0\n",
       "dtype: int64"
      ]
     },
     "execution_count": 150,
     "metadata": {},
     "output_type": "execute_result"
    }
   ],
   "source": [
    "# check Missing value present in dataset \n",
    "\n",
    "df.isnull().sum()"
   ]
  },
  {
   "cell_type": "code",
   "execution_count": 151,
   "id": "54166566",
   "metadata": {},
   "outputs": [
    {
     "data": {
      "text/html": [
       "<div>\n",
       "<style scoped>\n",
       "    .dataframe tbody tr th:only-of-type {\n",
       "        vertical-align: middle;\n",
       "    }\n",
       "\n",
       "    .dataframe tbody tr th {\n",
       "        vertical-align: top;\n",
       "    }\n",
       "\n",
       "    .dataframe thead th {\n",
       "        text-align: right;\n",
       "    }\n",
       "</style>\n",
       "<table border=\"1\" class=\"dataframe\">\n",
       "  <thead>\n",
       "    <tr style=\"text-align: right;\">\n",
       "      <th></th>\n",
       "      <th>year</th>\n",
       "      <th>selling_price</th>\n",
       "      <th>km_driven</th>\n",
       "    </tr>\n",
       "  </thead>\n",
       "  <tbody>\n",
       "    <tr>\n",
       "      <th>count</th>\n",
       "      <td>4340.000000</td>\n",
       "      <td>4.340000e+03</td>\n",
       "      <td>4340.000000</td>\n",
       "    </tr>\n",
       "    <tr>\n",
       "      <th>mean</th>\n",
       "      <td>2013.090783</td>\n",
       "      <td>5.041273e+05</td>\n",
       "      <td>66215.777419</td>\n",
       "    </tr>\n",
       "    <tr>\n",
       "      <th>std</th>\n",
       "      <td>4.215344</td>\n",
       "      <td>5.785487e+05</td>\n",
       "      <td>46644.102194</td>\n",
       "    </tr>\n",
       "    <tr>\n",
       "      <th>min</th>\n",
       "      <td>1992.000000</td>\n",
       "      <td>2.000000e+04</td>\n",
       "      <td>1.000000</td>\n",
       "    </tr>\n",
       "    <tr>\n",
       "      <th>25%</th>\n",
       "      <td>2011.000000</td>\n",
       "      <td>2.087498e+05</td>\n",
       "      <td>35000.000000</td>\n",
       "    </tr>\n",
       "    <tr>\n",
       "      <th>50%</th>\n",
       "      <td>2014.000000</td>\n",
       "      <td>3.500000e+05</td>\n",
       "      <td>60000.000000</td>\n",
       "    </tr>\n",
       "    <tr>\n",
       "      <th>75%</th>\n",
       "      <td>2016.000000</td>\n",
       "      <td>6.000000e+05</td>\n",
       "      <td>90000.000000</td>\n",
       "    </tr>\n",
       "    <tr>\n",
       "      <th>max</th>\n",
       "      <td>2020.000000</td>\n",
       "      <td>8.900000e+06</td>\n",
       "      <td>806599.000000</td>\n",
       "    </tr>\n",
       "  </tbody>\n",
       "</table>\n",
       "</div>"
      ],
      "text/plain": [
       "              year  selling_price      km_driven\n",
       "count  4340.000000   4.340000e+03    4340.000000\n",
       "mean   2013.090783   5.041273e+05   66215.777419\n",
       "std       4.215344   5.785487e+05   46644.102194\n",
       "min    1992.000000   2.000000e+04       1.000000\n",
       "25%    2011.000000   2.087498e+05   35000.000000\n",
       "50%    2014.000000   3.500000e+05   60000.000000\n",
       "75%    2016.000000   6.000000e+05   90000.000000\n",
       "max    2020.000000   8.900000e+06  806599.000000"
      ]
     },
     "execution_count": 151,
     "metadata": {},
     "output_type": "execute_result"
    }
   ],
   "source": [
    "df.describe()"
   ]
  },
  {
   "cell_type": "code",
   "execution_count": 152,
   "id": "5b5c4e72",
   "metadata": {},
   "outputs": [
    {
     "data": {
      "text/plain": [
       "763"
      ]
     },
     "execution_count": 152,
     "metadata": {},
     "output_type": "execute_result"
    }
   ],
   "source": [
    "# check Duplicates prsent in dataset \n",
    "\n",
    "df.duplicated().sum()"
   ]
  },
  {
   "cell_type": "code",
   "execution_count": 153,
   "id": "7017446a",
   "metadata": {},
   "outputs": [
    {
     "data": {
      "text/html": [
       "<div>\n",
       "<style scoped>\n",
       "    .dataframe tbody tr th:only-of-type {\n",
       "        vertical-align: middle;\n",
       "    }\n",
       "\n",
       "    .dataframe tbody tr th {\n",
       "        vertical-align: top;\n",
       "    }\n",
       "\n",
       "    .dataframe thead th {\n",
       "        text-align: right;\n",
       "    }\n",
       "</style>\n",
       "<table border=\"1\" class=\"dataframe\">\n",
       "  <thead>\n",
       "    <tr style=\"text-align: right;\">\n",
       "      <th></th>\n",
       "      <th>name</th>\n",
       "      <th>year</th>\n",
       "      <th>selling_price</th>\n",
       "      <th>km_driven</th>\n",
       "      <th>fuel</th>\n",
       "      <th>seller_type</th>\n",
       "      <th>transmission</th>\n",
       "      <th>owner</th>\n",
       "    </tr>\n",
       "  </thead>\n",
       "  <tbody>\n",
       "    <tr>\n",
       "      <th>0</th>\n",
       "      <td>Maruti 800 AC</td>\n",
       "      <td>2007</td>\n",
       "      <td>60000</td>\n",
       "      <td>70000</td>\n",
       "      <td>Petrol</td>\n",
       "      <td>Individual</td>\n",
       "      <td>Manual</td>\n",
       "      <td>First Owner</td>\n",
       "    </tr>\n",
       "    <tr>\n",
       "      <th>1</th>\n",
       "      <td>Maruti Wagon R LXI Minor</td>\n",
       "      <td>2007</td>\n",
       "      <td>135000</td>\n",
       "      <td>50000</td>\n",
       "      <td>Petrol</td>\n",
       "      <td>Individual</td>\n",
       "      <td>Manual</td>\n",
       "      <td>First Owner</td>\n",
       "    </tr>\n",
       "    <tr>\n",
       "      <th>2</th>\n",
       "      <td>Hyundai Verna 1.6 SX</td>\n",
       "      <td>2012</td>\n",
       "      <td>600000</td>\n",
       "      <td>100000</td>\n",
       "      <td>Diesel</td>\n",
       "      <td>Individual</td>\n",
       "      <td>Manual</td>\n",
       "      <td>First Owner</td>\n",
       "    </tr>\n",
       "    <tr>\n",
       "      <th>3</th>\n",
       "      <td>Datsun RediGO T Option</td>\n",
       "      <td>2017</td>\n",
       "      <td>250000</td>\n",
       "      <td>46000</td>\n",
       "      <td>Petrol</td>\n",
       "      <td>Individual</td>\n",
       "      <td>Manual</td>\n",
       "      <td>First Owner</td>\n",
       "    </tr>\n",
       "    <tr>\n",
       "      <th>4</th>\n",
       "      <td>Honda Amaze VX i-DTEC</td>\n",
       "      <td>2014</td>\n",
       "      <td>450000</td>\n",
       "      <td>141000</td>\n",
       "      <td>Diesel</td>\n",
       "      <td>Individual</td>\n",
       "      <td>Manual</td>\n",
       "      <td>Second Owner</td>\n",
       "    </tr>\n",
       "    <tr>\n",
       "      <th>...</th>\n",
       "      <td>...</td>\n",
       "      <td>...</td>\n",
       "      <td>...</td>\n",
       "      <td>...</td>\n",
       "      <td>...</td>\n",
       "      <td>...</td>\n",
       "      <td>...</td>\n",
       "      <td>...</td>\n",
       "    </tr>\n",
       "    <tr>\n",
       "      <th>4335</th>\n",
       "      <td>Hyundai i20 Magna 1.4 CRDi (Diesel)</td>\n",
       "      <td>2014</td>\n",
       "      <td>409999</td>\n",
       "      <td>80000</td>\n",
       "      <td>Diesel</td>\n",
       "      <td>Individual</td>\n",
       "      <td>Manual</td>\n",
       "      <td>Second Owner</td>\n",
       "    </tr>\n",
       "    <tr>\n",
       "      <th>4336</th>\n",
       "      <td>Hyundai i20 Magna 1.4 CRDi</td>\n",
       "      <td>2014</td>\n",
       "      <td>409999</td>\n",
       "      <td>80000</td>\n",
       "      <td>Diesel</td>\n",
       "      <td>Individual</td>\n",
       "      <td>Manual</td>\n",
       "      <td>Second Owner</td>\n",
       "    </tr>\n",
       "    <tr>\n",
       "      <th>4337</th>\n",
       "      <td>Maruti 800 AC BSIII</td>\n",
       "      <td>2009</td>\n",
       "      <td>110000</td>\n",
       "      <td>83000</td>\n",
       "      <td>Petrol</td>\n",
       "      <td>Individual</td>\n",
       "      <td>Manual</td>\n",
       "      <td>Second Owner</td>\n",
       "    </tr>\n",
       "    <tr>\n",
       "      <th>4338</th>\n",
       "      <td>Hyundai Creta 1.6 CRDi SX Option</td>\n",
       "      <td>2016</td>\n",
       "      <td>865000</td>\n",
       "      <td>90000</td>\n",
       "      <td>Diesel</td>\n",
       "      <td>Individual</td>\n",
       "      <td>Manual</td>\n",
       "      <td>First Owner</td>\n",
       "    </tr>\n",
       "    <tr>\n",
       "      <th>4339</th>\n",
       "      <td>Renault KWID RXT</td>\n",
       "      <td>2016</td>\n",
       "      <td>225000</td>\n",
       "      <td>40000</td>\n",
       "      <td>Petrol</td>\n",
       "      <td>Individual</td>\n",
       "      <td>Manual</td>\n",
       "      <td>First Owner</td>\n",
       "    </tr>\n",
       "  </tbody>\n",
       "</table>\n",
       "<p>3577 rows × 8 columns</p>\n",
       "</div>"
      ],
      "text/plain": [
       "                                     name  year  selling_price  km_driven  \\\n",
       "0                           Maruti 800 AC  2007          60000      70000   \n",
       "1                Maruti Wagon R LXI Minor  2007         135000      50000   \n",
       "2                    Hyundai Verna 1.6 SX  2012         600000     100000   \n",
       "3                  Datsun RediGO T Option  2017         250000      46000   \n",
       "4                   Honda Amaze VX i-DTEC  2014         450000     141000   \n",
       "...                                   ...   ...            ...        ...   \n",
       "4335  Hyundai i20 Magna 1.4 CRDi (Diesel)  2014         409999      80000   \n",
       "4336           Hyundai i20 Magna 1.4 CRDi  2014         409999      80000   \n",
       "4337                  Maruti 800 AC BSIII  2009         110000      83000   \n",
       "4338     Hyundai Creta 1.6 CRDi SX Option  2016         865000      90000   \n",
       "4339                     Renault KWID RXT  2016         225000      40000   \n",
       "\n",
       "        fuel seller_type transmission         owner  \n",
       "0     Petrol  Individual       Manual   First Owner  \n",
       "1     Petrol  Individual       Manual   First Owner  \n",
       "2     Diesel  Individual       Manual   First Owner  \n",
       "3     Petrol  Individual       Manual   First Owner  \n",
       "4     Diesel  Individual       Manual  Second Owner  \n",
       "...      ...         ...          ...           ...  \n",
       "4335  Diesel  Individual       Manual  Second Owner  \n",
       "4336  Diesel  Individual       Manual  Second Owner  \n",
       "4337  Petrol  Individual       Manual  Second Owner  \n",
       "4338  Diesel  Individual       Manual   First Owner  \n",
       "4339  Petrol  Individual       Manual   First Owner  \n",
       "\n",
       "[3577 rows x 8 columns]"
      ]
     },
     "execution_count": 153,
     "metadata": {},
     "output_type": "execute_result"
    }
   ],
   "source": [
    "# Handling of duplicates \n",
    "\n",
    "df.drop_duplicates(keep='first') "
   ]
  },
  {
   "cell_type": "code",
   "execution_count": 154,
   "id": "aa9be561",
   "metadata": {},
   "outputs": [
    {
     "data": {
      "text/plain": [
       "(4340, 8)"
      ]
     },
     "execution_count": 154,
     "metadata": {},
     "output_type": "execute_result"
    }
   ],
   "source": [
    "df.shape"
   ]
  },
  {
   "cell_type": "code",
   "execution_count": 155,
   "id": "f067d5c3",
   "metadata": {
    "scrolled": true
   },
   "outputs": [
    {
     "data": {
      "text/html": [
       "<div>\n",
       "<style scoped>\n",
       "    .dataframe tbody tr th:only-of-type {\n",
       "        vertical-align: middle;\n",
       "    }\n",
       "\n",
       "    .dataframe tbody tr th {\n",
       "        vertical-align: top;\n",
       "    }\n",
       "\n",
       "    .dataframe thead th {\n",
       "        text-align: right;\n",
       "    }\n",
       "</style>\n",
       "<table border=\"1\" class=\"dataframe\">\n",
       "  <thead>\n",
       "    <tr style=\"text-align: right;\">\n",
       "      <th></th>\n",
       "      <th>name</th>\n",
       "      <th>year</th>\n",
       "      <th>selling_price</th>\n",
       "      <th>km_driven</th>\n",
       "      <th>fuel</th>\n",
       "      <th>seller_type</th>\n",
       "      <th>transmission</th>\n",
       "      <th>owner</th>\n",
       "    </tr>\n",
       "  </thead>\n",
       "  <tbody>\n",
       "    <tr>\n",
       "      <th>0</th>\n",
       "      <td>Maruti 800 AC</td>\n",
       "      <td>2007</td>\n",
       "      <td>60000</td>\n",
       "      <td>70000</td>\n",
       "      <td>Petrol</td>\n",
       "      <td>Individual</td>\n",
       "      <td>Manual</td>\n",
       "      <td>First Owner</td>\n",
       "    </tr>\n",
       "    <tr>\n",
       "      <th>1</th>\n",
       "      <td>Maruti Wagon R LXI Minor</td>\n",
       "      <td>2007</td>\n",
       "      <td>135000</td>\n",
       "      <td>50000</td>\n",
       "      <td>Petrol</td>\n",
       "      <td>Individual</td>\n",
       "      <td>Manual</td>\n",
       "      <td>First Owner</td>\n",
       "    </tr>\n",
       "    <tr>\n",
       "      <th>2</th>\n",
       "      <td>Hyundai Verna 1.6 SX</td>\n",
       "      <td>2012</td>\n",
       "      <td>600000</td>\n",
       "      <td>100000</td>\n",
       "      <td>Diesel</td>\n",
       "      <td>Individual</td>\n",
       "      <td>Manual</td>\n",
       "      <td>First Owner</td>\n",
       "    </tr>\n",
       "    <tr>\n",
       "      <th>3</th>\n",
       "      <td>Datsun RediGO T Option</td>\n",
       "      <td>2017</td>\n",
       "      <td>250000</td>\n",
       "      <td>46000</td>\n",
       "      <td>Petrol</td>\n",
       "      <td>Individual</td>\n",
       "      <td>Manual</td>\n",
       "      <td>First Owner</td>\n",
       "    </tr>\n",
       "    <tr>\n",
       "      <th>4</th>\n",
       "      <td>Honda Amaze VX i-DTEC</td>\n",
       "      <td>2014</td>\n",
       "      <td>450000</td>\n",
       "      <td>141000</td>\n",
       "      <td>Diesel</td>\n",
       "      <td>Individual</td>\n",
       "      <td>Manual</td>\n",
       "      <td>Second Owner</td>\n",
       "    </tr>\n",
       "  </tbody>\n",
       "</table>\n",
       "</div>"
      ],
      "text/plain": [
       "                       name  year  selling_price  km_driven    fuel  \\\n",
       "0             Maruti 800 AC  2007          60000      70000  Petrol   \n",
       "1  Maruti Wagon R LXI Minor  2007         135000      50000  Petrol   \n",
       "2      Hyundai Verna 1.6 SX  2012         600000     100000  Diesel   \n",
       "3    Datsun RediGO T Option  2017         250000      46000  Petrol   \n",
       "4     Honda Amaze VX i-DTEC  2014         450000     141000  Diesel   \n",
       "\n",
       "  seller_type transmission         owner  \n",
       "0  Individual       Manual   First Owner  \n",
       "1  Individual       Manual   First Owner  \n",
       "2  Individual       Manual   First Owner  \n",
       "3  Individual       Manual   First Owner  \n",
       "4  Individual       Manual  Second Owner  "
      ]
     },
     "execution_count": 155,
     "metadata": {},
     "output_type": "execute_result"
    }
   ],
   "source": [
    "df.head()"
   ]
  },
  {
   "cell_type": "markdown",
   "id": "02b9e6d4",
   "metadata": {},
   "source": [
    "## Encoding catgorical data "
   ]
  },
  {
   "cell_type": "code",
   "execution_count": 156,
   "id": "581afcc6",
   "metadata": {},
   "outputs": [],
   "source": [
    "from sklearn.preprocessing import LabelEncoder\n",
    "encoder = LabelEncoder()"
   ]
  },
  {
   "cell_type": "markdown",
   "id": "95786059",
   "metadata": {},
   "source": [
    "### Encoding 'fuel type' column"
   ]
  },
  {
   "cell_type": "code",
   "execution_count": 157,
   "id": "100bd4ee",
   "metadata": {},
   "outputs": [
    {
     "data": {
      "text/plain": [
       "Diesel      2153\n",
       "Petrol      2123\n",
       "CNG           40\n",
       "LPG           23\n",
       "Electric       1\n",
       "Name: fuel, dtype: int64"
      ]
     },
     "execution_count": 157,
     "metadata": {},
     "output_type": "execute_result"
    }
   ],
   "source": [
    "df['fuel'].value_counts()"
   ]
  },
  {
   "cell_type": "code",
   "execution_count": 158,
   "id": "df8dcfb1",
   "metadata": {},
   "outputs": [],
   "source": [
    "df['fuel'] = encoder.fit_transform(df['fuel'])"
   ]
  },
  {
   "cell_type": "code",
   "execution_count": 159,
   "id": "00d7e2fb",
   "metadata": {},
   "outputs": [
    {
     "data": {
      "text/plain": [
       "1    2153\n",
       "4    2123\n",
       "0      40\n",
       "3      23\n",
       "2       1\n",
       "Name: fuel, dtype: int64"
      ]
     },
     "execution_count": 159,
     "metadata": {},
     "output_type": "execute_result"
    }
   ],
   "source": [
    "df['fuel'].value_counts()"
   ]
  },
  {
   "cell_type": "markdown",
   "id": "98cee247",
   "metadata": {},
   "source": [
    "### Encoding 'Seller_type' column "
   ]
  },
  {
   "cell_type": "code",
   "execution_count": 160,
   "id": "ca2d045b",
   "metadata": {},
   "outputs": [
    {
     "data": {
      "text/plain": [
       "Individual          3244\n",
       "Dealer               994\n",
       "Trustmark Dealer     102\n",
       "Name: seller_type, dtype: int64"
      ]
     },
     "execution_count": 160,
     "metadata": {},
     "output_type": "execute_result"
    }
   ],
   "source": [
    "df['seller_type'].value_counts()"
   ]
  },
  {
   "cell_type": "code",
   "execution_count": 161,
   "id": "86b00a50",
   "metadata": {},
   "outputs": [],
   "source": [
    "df['seller_type'] = encoder.fit_transform(df['seller_type'])"
   ]
  },
  {
   "cell_type": "code",
   "execution_count": 162,
   "id": "96c6dc1e",
   "metadata": {},
   "outputs": [
    {
     "data": {
      "text/plain": [
       "1    3244\n",
       "0     994\n",
       "2     102\n",
       "Name: seller_type, dtype: int64"
      ]
     },
     "execution_count": 162,
     "metadata": {},
     "output_type": "execute_result"
    }
   ],
   "source": [
    "df['seller_type'].value_counts()"
   ]
  },
  {
   "cell_type": "markdown",
   "id": "8ed7b560",
   "metadata": {},
   "source": [
    "### Encoding of transmission column"
   ]
  },
  {
   "cell_type": "code",
   "execution_count": 163,
   "id": "f4f6adcf",
   "metadata": {},
   "outputs": [
    {
     "data": {
      "text/plain": [
       "Manual       3892\n",
       "Automatic     448\n",
       "Name: transmission, dtype: int64"
      ]
     },
     "execution_count": 163,
     "metadata": {},
     "output_type": "execute_result"
    }
   ],
   "source": [
    "df['transmission'].value_counts()"
   ]
  },
  {
   "cell_type": "code",
   "execution_count": 164,
   "id": "2fe6e53f",
   "metadata": {},
   "outputs": [],
   "source": [
    "df['transmission'] = encoder.fit_transform(df['transmission'])"
   ]
  },
  {
   "cell_type": "code",
   "execution_count": 165,
   "id": "4a4d511e",
   "metadata": {},
   "outputs": [
    {
     "data": {
      "text/plain": [
       "1    3892\n",
       "0     448\n",
       "Name: transmission, dtype: int64"
      ]
     },
     "execution_count": 165,
     "metadata": {},
     "output_type": "execute_result"
    }
   ],
   "source": [
    "df['transmission'].value_counts()"
   ]
  },
  {
   "cell_type": "markdown",
   "id": "8cb18898",
   "metadata": {},
   "source": [
    "### Encoding of 'owner' column "
   ]
  },
  {
   "cell_type": "code",
   "execution_count": 166,
   "id": "a9499392",
   "metadata": {},
   "outputs": [
    {
     "data": {
      "text/plain": [
       "First Owner             2832\n",
       "Second Owner            1106\n",
       "Third Owner              304\n",
       "Fourth & Above Owner      81\n",
       "Test Drive Car            17\n",
       "Name: owner, dtype: int64"
      ]
     },
     "execution_count": 166,
     "metadata": {},
     "output_type": "execute_result"
    }
   ],
   "source": [
    "df['owner'].value_counts()"
   ]
  },
  {
   "cell_type": "code",
   "execution_count": 167,
   "id": "bf2c67ea",
   "metadata": {},
   "outputs": [],
   "source": [
    "df['owner'] = encoder.fit_transform(df['owner'])"
   ]
  },
  {
   "cell_type": "code",
   "execution_count": 168,
   "id": "f5587830",
   "metadata": {},
   "outputs": [
    {
     "data": {
      "text/plain": [
       "0    2832\n",
       "2    1106\n",
       "4     304\n",
       "1      81\n",
       "3      17\n",
       "Name: owner, dtype: int64"
      ]
     },
     "execution_count": 168,
     "metadata": {},
     "output_type": "execute_result"
    }
   ],
   "source": [
    "df['owner'].value_counts()"
   ]
  },
  {
   "cell_type": "code",
   "execution_count": 169,
   "id": "e8eb7540",
   "metadata": {
    "scrolled": true
   },
   "outputs": [
    {
     "data": {
      "text/html": [
       "<div>\n",
       "<style scoped>\n",
       "    .dataframe tbody tr th:only-of-type {\n",
       "        vertical-align: middle;\n",
       "    }\n",
       "\n",
       "    .dataframe tbody tr th {\n",
       "        vertical-align: top;\n",
       "    }\n",
       "\n",
       "    .dataframe thead th {\n",
       "        text-align: right;\n",
       "    }\n",
       "</style>\n",
       "<table border=\"1\" class=\"dataframe\">\n",
       "  <thead>\n",
       "    <tr style=\"text-align: right;\">\n",
       "      <th></th>\n",
       "      <th>name</th>\n",
       "      <th>year</th>\n",
       "      <th>selling_price</th>\n",
       "      <th>km_driven</th>\n",
       "      <th>fuel</th>\n",
       "      <th>seller_type</th>\n",
       "      <th>transmission</th>\n",
       "      <th>owner</th>\n",
       "    </tr>\n",
       "  </thead>\n",
       "  <tbody>\n",
       "    <tr>\n",
       "      <th>0</th>\n",
       "      <td>Maruti 800 AC</td>\n",
       "      <td>2007</td>\n",
       "      <td>60000</td>\n",
       "      <td>70000</td>\n",
       "      <td>4</td>\n",
       "      <td>1</td>\n",
       "      <td>1</td>\n",
       "      <td>0</td>\n",
       "    </tr>\n",
       "    <tr>\n",
       "      <th>1</th>\n",
       "      <td>Maruti Wagon R LXI Minor</td>\n",
       "      <td>2007</td>\n",
       "      <td>135000</td>\n",
       "      <td>50000</td>\n",
       "      <td>4</td>\n",
       "      <td>1</td>\n",
       "      <td>1</td>\n",
       "      <td>0</td>\n",
       "    </tr>\n",
       "    <tr>\n",
       "      <th>2</th>\n",
       "      <td>Hyundai Verna 1.6 SX</td>\n",
       "      <td>2012</td>\n",
       "      <td>600000</td>\n",
       "      <td>100000</td>\n",
       "      <td>1</td>\n",
       "      <td>1</td>\n",
       "      <td>1</td>\n",
       "      <td>0</td>\n",
       "    </tr>\n",
       "    <tr>\n",
       "      <th>3</th>\n",
       "      <td>Datsun RediGO T Option</td>\n",
       "      <td>2017</td>\n",
       "      <td>250000</td>\n",
       "      <td>46000</td>\n",
       "      <td>4</td>\n",
       "      <td>1</td>\n",
       "      <td>1</td>\n",
       "      <td>0</td>\n",
       "    </tr>\n",
       "    <tr>\n",
       "      <th>4</th>\n",
       "      <td>Honda Amaze VX i-DTEC</td>\n",
       "      <td>2014</td>\n",
       "      <td>450000</td>\n",
       "      <td>141000</td>\n",
       "      <td>1</td>\n",
       "      <td>1</td>\n",
       "      <td>1</td>\n",
       "      <td>2</td>\n",
       "    </tr>\n",
       "  </tbody>\n",
       "</table>\n",
       "</div>"
      ],
      "text/plain": [
       "                       name  year  selling_price  km_driven  fuel  \\\n",
       "0             Maruti 800 AC  2007          60000      70000     4   \n",
       "1  Maruti Wagon R LXI Minor  2007         135000      50000     4   \n",
       "2      Hyundai Verna 1.6 SX  2012         600000     100000     1   \n",
       "3    Datsun RediGO T Option  2017         250000      46000     4   \n",
       "4     Honda Amaze VX i-DTEC  2014         450000     141000     1   \n",
       "\n",
       "   seller_type  transmission  owner  \n",
       "0            1             1      0  \n",
       "1            1             1      0  \n",
       "2            1             1      0  \n",
       "3            1             1      0  \n",
       "4            1             1      2  "
      ]
     },
     "execution_count": 169,
     "metadata": {},
     "output_type": "execute_result"
    }
   ],
   "source": [
    "df.head()"
   ]
  },
  {
   "cell_type": "code",
   "execution_count": 170,
   "id": "6218e55c",
   "metadata": {},
   "outputs": [
    {
     "data": {
      "text/plain": [
       "<Axes: >"
      ]
     },
     "execution_count": 170,
     "metadata": {},
     "output_type": "execute_result"
    },
    {
     "data": {
      "image/png": "[encoded data removed]",
      "text/plain": [
       "<Figure size 640x480 with 2 Axes>"
      ]
     },
     "metadata": {},
     "output_type": "display_data"
    }
   ],
   "source": [
    "sns.heatmap(df.corr(),annot=True)"
   ]
  },
  {
   "cell_type": "code",
   "execution_count": 219,
   "id": "a6ada23c",
   "metadata": {},
   "outputs": [],
   "source": [
    "## Save cleaned Sample Dataset \n",
    "\n",
    "df.to_csv('sample_data.csv')"
   ]
  },
  {
   "cell_type": "markdown",
   "id": "9edb3538",
   "metadata": {},
   "source": [
    "## Divide Dataset into Input and output dataset "
   ]
  },
  {
   "cell_type": "code",
   "execution_count": 172,
   "id": "664c2d5a",
   "metadata": {},
   "outputs": [],
   "source": [
    "x = df.drop(['selling_price','name'] , axis = 1)\n",
    "y = df['selling_price']"
   ]
  },
  {
   "cell_type": "code",
   "execution_count": 173,
   "id": "c34c0ddc",
   "metadata": {},
   "outputs": [
    {
     "data": {
      "text/plain": [
       "((4340, 6), (4340,))"
      ]
     },
     "execution_count": 173,
     "metadata": {},
     "output_type": "execute_result"
    }
   ],
   "source": [
    "x.shape ,y.shape"
   ]
  },
  {
   "cell_type": "markdown",
   "id": "9962fb58",
   "metadata": {},
   "source": [
    "## Spliting Data into into Traing and Test Data "
   ]
  },
  {
   "cell_type": "code",
   "execution_count": 174,
   "id": "df2b526c",
   "metadata": {},
   "outputs": [],
   "source": [
    "from sklearn.model_selection import train_test_split \n",
    "\n",
    "x_train ,x_test ,y_train ,y_test = train_test_split(x,y,test_size = 0.20 ,random_state = 40)"
   ]
  },
  {
   "cell_type": "code",
   "execution_count": 175,
   "id": "a6b4823d",
   "metadata": {},
   "outputs": [
    {
     "data": {
      "text/plain": [
       "((3472, 6), (868, 6), (3472,), (868,))"
      ]
     },
     "execution_count": 175,
     "metadata": {},
     "output_type": "execute_result"
    }
   ],
   "source": [
    "x_train.shape , x_test.shape , y_train.shape , y_test.shape"
   ]
  },
  {
   "cell_type": "markdown",
   "id": "cfb18beb",
   "metadata": {},
   "source": [
    "## Model Training "
   ]
  },
  {
   "cell_type": "markdown",
   "id": "3833bbfe",
   "metadata": {},
   "source": [
    "## 1. LinearRegression model "
   ]
  },
  {
   "cell_type": "code",
   "execution_count": 183,
   "id": "ec6e6618",
   "metadata": {},
   "outputs": [],
   "source": [
    "from sklearn.linear_model import LinearRegression\n",
    "\n",
    "regression = LinearRegression()"
   ]
  },
  {
   "cell_type": "code",
   "execution_count": 184,
   "id": "1dff8be0",
   "metadata": {},
   "outputs": [
    {
     "data": {
      "text/html": [
       "<style>#sk-container-id-10 {color: black;background-color: white;}#sk-container-id-10 pre{padding: 0;}#sk-container-id-10 div.sk-toggleable {background-color: white;}#sk-container-id-10 label.sk-toggleable__label {cursor: pointer;display: block;width: 100%;margin-bottom: 0;padding: 0.3em;box-sizing: border-box;text-align: center;}#sk-container-id-10 label.sk-toggleable__label-arrow:before {content: \"▸\";float: left;margin-right: 0.25em;color: #696969;}#sk-container-id-10 label.sk-toggleable__label-arrow:hover:before {color: black;}#sk-container-id-10 div.sk-estimator:hover label.sk-toggleable__label-arrow:before {color: black;}#sk-container-id-10 div.sk-toggleable__content {max-height: 0;max-width: 0;overflow: hidden;text-align: left;background-color: #f0f8ff;}#sk-container-id-10 div.sk-toggleable__content pre {margin: 0.2em;color: black;border-radius: 0.25em;background-color: #f0f8ff;}#sk-container-id-10 input.sk-toggleable__control:checked~div.sk-toggleable__content {max-height: 200px;max-width: 100%;overflow: auto;}#sk-container-id-10 input.sk-toggleable__control:checked~label.sk-toggleable__label-arrow:before {content: \"▾\";}#sk-container-id-10 div.sk-estimator input.sk-toggleable__control:checked~label.sk-toggleable__label {background-color: #d4ebff;}#sk-container-id-10 div.sk-label input.sk-toggleable__control:checked~label.sk-toggleable__label {background-color: #d4ebff;}#sk-container-id-10 input.sk-hidden--visually {border: 0;clip: rect(1px 1px 1px 1px);clip: rect(1px, 1px, 1px, 1px);height: 1px;margin: -1px;overflow: hidden;padding: 0;position: absolute;width: 1px;}#sk-container-id-10 div.sk-estimator {font-family: monospace;background-color: #f0f8ff;border: 1px dotted black;border-radius: 0.25em;box-sizing: border-box;margin-bottom: 0.5em;}#sk-container-id-10 div.sk-estimator:hover {background-color: #d4ebff;}#sk-container-id-10 div.sk-parallel-item::after {content: \"\";width: 100%;border-bottom: 1px solid gray;flex-grow: 1;}#sk-container-id-10 div.sk-label:hover label.sk-toggleable__label {background-color: #d4ebff;}#sk-container-id-10 div.sk-serial::before {content: \"\";position: absolute;border-left: 1px solid gray;box-sizing: border-box;top: 0;bottom: 0;left: 50%;z-index: 0;}#sk-container-id-10 div.sk-serial {display: flex;flex-direction: column;align-items: center;background-color: white;padding-right: 0.2em;padding-left: 0.2em;position: relative;}#sk-container-id-10 div.sk-item {position: relative;z-index: 1;}#sk-container-id-10 div.sk-parallel {display: flex;align-items: stretch;justify-content: center;background-color: white;position: relative;}#sk-container-id-10 div.sk-item::before, #sk-container-id-10 div.sk-parallel-item::before {content: \"\";position: absolute;border-left: 1px solid gray;box-sizing: border-box;top: 0;bottom: 0;left: 50%;z-index: -1;}#sk-container-id-10 div.sk-parallel-item {display: flex;flex-direction: column;z-index: 1;position: relative;background-color: white;}#sk-container-id-10 div.sk-parallel-item:first-child::after {align-self: flex-end;width: 50%;}#sk-container-id-10 div.sk-parallel-item:last-child::after {align-self: flex-start;width: 50%;}#sk-container-id-10 div.sk-parallel-item:only-child::after {width: 0;}#sk-container-id-10 div.sk-dashed-wrapped {border: 1px dashed gray;margin: 0 0.4em 0.5em 0.4em;box-sizing: border-box;padding-bottom: 0.4em;background-color: white;}#sk-container-id-10 div.sk-label label {font-family: monospace;font-weight: bold;display: inline-block;line-height: 1.2em;}#sk-container-id-10 div.sk-label-container {text-align: center;}#sk-container-id-10 div.sk-container {/* jupyter's `normalize.less` sets `[hidden] { display: none; }` but bootstrap.min.css set `[hidden] { display: none !important; }` so we also need the `!important` here to be able to override the default hidden behavior on the sphinx rendered scikit-learn.org. See: https://github.com/scikit-learn/scikit-learn/issues/21755 */display: inline-block !important;position: relative;}#sk-container-id-10 div.sk-text-repr-fallback {display: none;}</style><div id=\"sk-container-id-10\" class=\"sk-top-container\"><div class=\"sk-text-repr-fallback\"><pre>LinearRegression()</pre><b>In a Jupyter environment, please rerun this cell to show the HTML representation or trust the notebook. <br />On GitHub, the HTML representation is unable to render, please try loading this page with nbviewer.org.</b></div><div class=\"sk-container\" hidden><div class=\"sk-item\"><div class=\"sk-estimator sk-toggleable\"><input class=\"sk-toggleable__control sk-hidden--visually\" id=\"sk-estimator-id-14\" type=\"checkbox\" checked><label for=\"sk-estimator-id-14\" class=\"sk-toggleable__label sk-toggleable__label-arrow\">LinearRegression</label><div class=\"sk-toggleable__content\"><pre>LinearRegression()</pre></div></div></div></div></div>"
      ],
      "text/plain": [
       "LinearRegression()"
      ]
     },
     "execution_count": 184,
     "metadata": {},
     "output_type": "execute_result"
    }
   ],
   "source": [
    "## trainig the train data \n",
    "\n",
    "regression.fit(x_train , y_train)"
   ]
  },
  {
   "cell_type": "markdown",
   "id": "b8e8a5c0",
   "metadata": {},
   "source": [
    "##### Predication of test Data"
   ]
  },
  {
   "cell_type": "code",
   "execution_count": 185,
   "id": "f3b90964",
   "metadata": {},
   "outputs": [],
   "source": [
    "y_pred_test = regression.predict(x_test)"
   ]
  },
  {
   "cell_type": "code",
   "execution_count": 186,
   "id": "e3c77b68",
   "metadata": {},
   "outputs": [
    {
     "data": {
      "text/plain": [
       "array([ 6.03940554e+05, -1.92270550e+04,  4.92593460e+05,  3.69533117e+05,\n",
       "        4.01054005e+05,  1.60870673e+05,  7.70028130e+05,  6.92894726e+05,\n",
       "        5.23373916e+04,  5.33068905e+05,  1.25535917e+05,  5.43153959e+05,\n",
       "       -1.34215826e+05,  2.95753023e+05,  2.34966429e+05,  6.28769552e+05,\n",
       "        2.12964734e+05,  3.26883632e+05, -4.98670315e+04,  4.18167589e+05,\n",
       "       -6.95524204e+04,  1.02874294e+06,  1.69036225e+05,  8.09745717e+05,\n",
       "        5.98272190e+05,  6.44815890e+05,  5.20414953e+05,  4.48877510e+05,\n",
       "        2.43737383e+03,  7.20172016e+05,  5.53033969e+05,  6.46976442e+04,\n",
       "        4.63426173e+05,  7.86721025e+05,  5.83975489e+05,  4.88978462e+05,\n",
       "        1.64528013e+06,  3.23830014e+05,  1.24327978e+06,  4.09549672e+05,\n",
       "        4.48845847e+05,  4.04430993e+05, -1.70059946e+04,  4.62681976e+05,\n",
       "        1.21364154e+05,  2.46936403e+05,  3.20837521e+05,  5.09286356e+05,\n",
       "        4.68673767e+05,  3.40206286e+05,  7.10000116e+05,  4.32310354e+05,\n",
       "        3.98798824e+05,  6.39898149e+05,  1.68690609e+06,  1.68450347e+05,\n",
       "        5.24414567e+04,  2.43874592e+05,  6.42469954e+05,  7.50063065e+05,\n",
       "       -4.98670315e+04,  3.33851120e+05,  1.29878006e+05,  3.57485614e+04,\n",
       "        3.16452492e+05,  8.56476907e+05,  4.23488615e+05,  4.66666000e+05,\n",
       "        2.55665898e+05,  1.71924653e+05,  4.79270807e+05, -9.38566653e+04,\n",
       "        7.22941937e+05,  1.35589310e+05,  6.39898149e+05,  6.00843995e+05,\n",
       "        4.62681976e+05,  5.92294838e+04,  4.54978817e+05, -2.50380329e+04,\n",
       "        3.32551996e+05,  4.23250074e+05,  3.98482200e+05,  1.44079890e+06,\n",
       "        4.26242568e+05,  1.66464420e+05,  3.37634481e+05,  2.48981519e+05,\n",
       "        5.32150795e+05,  1.37907812e+06,  4.96413853e+05, -1.70059946e+04,\n",
       "        5.59247065e+05,  5.40374024e+05,  1.40203159e+06,  1.57321750e+05,\n",
       "        1.60650052e+06,  7.94961747e+04,  4.68877321e+05,  1.58501010e+06,\n",
       "        5.53033969e+05,  2.82685869e+05,  1.59248701e+06,  1.91227467e+05,\n",
       "        5.92811957e+05, -1.60628247e+05,  4.34756419e+05,  4.49288404e+05,\n",
       "        2.79419692e+05,  1.82345970e+04,  1.38581803e+05,  5.67982958e+05,\n",
       "        5.51185998e+05,  1.59248701e+06,  3.21408236e+05,  4.98157759e+05,\n",
       "        4.62681976e+05,  1.40435413e+06,  4.41612259e+05,  1.60210178e+05,\n",
       "        6.97412574e+05,  2.29761695e+05,  1.55162431e+06,  7.50063065e+05,\n",
       "        4.37644848e+05,  6.70187381e+05,  8.64200515e+05,  4.06514238e+05,\n",
       "        4.90082780e+05,  4.76699002e+05,  1.72884048e+06, -1.66296610e+05,\n",
       "        3.94722932e+05,  3.38012229e+05,  5.50869374e+05,  1.63425560e+06,\n",
       "       -1.60628247e+05,  1.11454683e+05,  3.61123042e+05,  1.48175917e+06,\n",
       "        5.03722057e+05,  9.40038979e+05,  7.45199131e+05,  5.34597167e+05,\n",
       "        4.62096098e+05,  4.77576645e+05,  7.11813340e+05,  6.46812394e+03,\n",
       "        7.36642339e+05,  2.38456442e+05,  5.52469333e+05,  3.10294802e+05,\n",
       "        4.18167589e+05,  7.81052661e+05,  5.34597167e+05,  7.75592428e+05,\n",
       "        6.14685410e+05,  7.42836154e+05,  6.72962310e+05,  2.90548289e+05,\n",
       "        3.92436088e+05,  4.87029162e+05,  5.20896766e+05,  4.09549672e+05,\n",
       "        5.12339974e+05,  2.79272686e+05,  6.14685410e+05,  3.03902605e+05,\n",
       "        3.37530416e+05,  4.76713733e+05,  1.47921951e+06,  3.79156375e+05,\n",
       "        1.24534429e+06,  4.65253781e+05,  6.89556147e+05,  3.66914919e+05,\n",
       "        3.31369819e+05,  3.96227019e+05,  7.81156727e+05,  5.84255165e+05,\n",
       "        5.61997971e+05,  8.28347538e+04,  5.32025363e+05,  7.24054797e+05,\n",
       "        2.90548289e+05, -2.72621117e+05,  1.43581355e+06,  5.17422459e+05,\n",
       "        2.91661148e+05,  1.57742438e+05, -7.32320783e+04,  4.20739394e+05,\n",
       "        6.89556147e+05, -5.53272649e+04,  3.75609666e+05,  3.40206286e+05,\n",
       "       -1.09961455e+05,  3.19895136e+05,  5.45243951e+05,  3.93130460e+05,\n",
       "        2.46033901e+05,  5.14294224e+05,  1.72884048e+06,  3.26505884e+05,\n",
       "        5.65307088e+05, -1.93696693e+04,  2.46199645e+04,  2.08698768e+05,\n",
       "        5.33068905e+05,  5.03539132e+05,  5.56372548e+05,  5.67913640e+05,\n",
       "        1.48732866e+06,  5.48297569e+05,  2.18633098e+05,  1.93804099e+05,\n",
       "        1.80397478e+05,  5.24376733e+05,  5.61997971e+05,  4.26242568e+05,\n",
       "        7.95346425e+05,  7.64463831e+05,  3.61164411e+05,  3.87670227e+05,\n",
       "        6.39898149e+05,  1.94763547e+04,  2.41974942e+05,  1.40118025e+06,\n",
       "        8.90727067e+05,  4.84254375e+04,  7.16677275e+05,  1.52531029e+05,\n",
       "        2.82412185e+05,  5.03953923e+05,  4.26242568e+05,  1.65878542e+05,\n",
       "        5.40161466e+05,  1.12873836e+06,  6.78427550e+05,  1.44898196e+06,\n",
       "        5.70554763e+05,  2.83283179e+05,  4.79270807e+05,  4.97655867e+04,\n",
       "       -1.68868415e+05,  4.06138691e+05,  3.73203051e+05,  1.37351382e+06,\n",
       "        5.17800207e+05,  1.71507367e+06,  4.54441808e+05,  4.04467187e+05,\n",
       "       -2.78083909e+03,  3.43472463e+05,  5.31100717e+05,  5.97955567e+05,\n",
       "        5.61997971e+05,  1.58417691e+06,  1.22675736e+06,  4.70336267e+05,\n",
       "        2.43253966e+05,  4.54822641e+05,  5.84255165e+05, -7.68176845e+04,\n",
       "        4.50109639e+05,  4.61044363e+05,  6.20212760e+05,  7.42931123e+05,\n",
       "        5.76885836e+05, -2.79264613e+04, -1.12187174e+05,  7.21227772e+05,\n",
       "       -1.63200052e+05,  7.39530767e+05,  3.01676886e+05,  6.41707284e+05,\n",
       "        4.07355616e+05,  3.57172865e+05,  5.99568879e+05,  4.87510975e+05,\n",
       "        4.26242568e+05,  6.72962310e+05,  5.72434397e+05,  2.90548289e+05,\n",
       "        4.78893059e+05,  1.74539399e+05,  1.56831720e+06,  4.34378671e+05,\n",
       "        5.59492576e+05,  4.34439796e+05,  5.89715398e+05,  5.36748284e+05,\n",
       "        5.56372548e+05,  3.21215269e+05,  4.12542166e+05, -8.89211857e+04,\n",
       "        1.05454905e+06,  6.93030870e+05,  5.03722057e+05,  9.20721142e+05,\n",
       "        3.54327377e+05,  5.76014996e+05,  9.65351556e+04,  2.96008522e+05,\n",
       "        5.56854361e+05,  4.23488615e+05,  4.24893420e+05,  4.26406535e+04,\n",
       "        5.14850654e+05,  9.85707835e+04,  5.84255165e+05,  1.27078095e+06,\n",
       "        4.16950664e+05,  2.80428487e+05,  6.19866675e+05,  4.34378671e+05,\n",
       "        4.39795964e+05,  5.57266857e+05,  3.62841228e+05,  4.25129708e+05,\n",
       "        5.56854361e+05,  2.52018888e+05,  5.49695390e+05,  3.87670227e+05,\n",
       "        4.79270807e+05,  7.83728531e+05,  6.79194324e+05,  3.70916207e+05,\n",
       "        3.98798824e+05,  3.90284972e+05,  3.65517098e+05,  4.20678269e+05,\n",
       "        2.96458673e+05, -2.16994538e+04,  7.11813340e+05,  3.33851120e+05,\n",
       "        4.98639572e+05,  4.13399805e+05,  1.39173208e+06,  5.96496621e+05,\n",
       "        1.82345970e+04,  3.48824203e+05,  6.04335980e+05,  7.28506236e+05,\n",
       "        4.21056017e+05,  3.17848587e+05,  5.50943977e+05,  3.09708924e+05,\n",
       "        3.36417556e+05,  2.75083930e+04,  7.28918731e+05,  5.26356999e+05,\n",
       "        1.07663752e+05,  2.95648958e+05,  7.81156727e+05,  5.56854361e+05,\n",
       "        1.63719232e+05,  4.59585418e+05,  1.63425560e+06,  3.14207686e+05,\n",
       "        8.04303833e+05,  6.51439242e+05,  3.37695606e+05,  1.48137840e+06,\n",
       "        4.78893059e+05,  3.90979344e+05,  6.53598551e+05,  7.00684743e+05,\n",
       "       -1.30339015e+05,  5.56149976e+05,  5.85223157e+04,  6.45874943e+05,\n",
       "       -1.63200052e+05, -2.81345915e+04,  1.57321750e+05, -7.68176845e+04,\n",
       "        3.57485614e+04,  5.73126568e+05,  2.77456246e+05,  3.51712631e+05,\n",
       "        3.37634481e+05,  1.80103697e+05,  1.96167774e+05,  1.40118025e+06,\n",
       "        5.34389037e+05,  6.06924854e+05,  5.03722057e+05,  1.35719868e+06,\n",
       "        1.16220544e+05,  1.25696475e+06,  4.90082780e+05,  7.14204528e+05,\n",
       "        4.29581147e+05,  2.79419692e+05,  3.48659013e+05,  3.15755036e+05,\n",
       "        5.33111459e+05,  8.30468638e+05,  8.11550024e+05,  3.90284972e+05,\n",
       "        4.32197576e+04,  3.84648271e+05,  1.43986472e+06,  3.43680593e+05,\n",
       "        1.94763547e+04, -2.97450116e+05,  1.39074163e+06,  7.81156727e+05,\n",
       "        1.36012185e+06,  1.39074163e+06,  4.84731040e+05,  4.23488615e+05,\n",
       "        6.14685410e+05,  7.10000116e+05,  9.69558442e+04, -5.23347714e+04,\n",
       "        3.80648672e+04,  3.48763078e+05,  1.82345970e+04,  3.90284972e+05,\n",
       "        6.62051278e+05,  1.46853265e+06,  4.04875300e+05,  3.93130460e+05,\n",
       "        5.59426166e+05,  1.40118025e+06,  3.03121100e+05,  5.31889635e+05,\n",
       "       -5.01836551e+04,  6.10963797e+05, -1.91161234e+05,  5.84255165e+05,\n",
       "        6.58503675e+05,  7.22941937e+05,  5.25348204e+05,  1.99264332e+05,\n",
       "        1.77384489e+06,  4.21694285e+05,  5.51220745e+05,  4.48560886e+05,\n",
       "        1.41049543e+05,  1.98255538e+05,  1.47620006e+06,  6.06512359e+05,\n",
       "        5.38002157e+05,  8.73771108e+05,  4.96930949e+03,  2.28728163e+04,\n",
       "        1.34913676e+04,  5.34597167e+05,  6.85871482e+05,  2.68291095e+05,\n",
       "        4.51071566e+05,  3.40206286e+05,  5.26040376e+05,  5.03396741e+05,\n",
       "        5.51185998e+05,  6.14685410e+05,  4.20796340e+04,  7.51843641e+05,\n",
       "        7.47837346e+05,  1.59537192e+06,  2.93120094e+05,  7.81156727e+05,\n",
       "        5.27652561e+05,  7.75592428e+05,  4.92593460e+05,  5.59426166e+05,\n",
       "        1.07663752e+05,  5.37168972e+05,  3.43680593e+05,  4.25129708e+05,\n",
       "        1.14653559e+06,  4.76382378e+05,  5.11095603e+05,  5.45792174e+05,\n",
       "        4.84457357e+05,  1.91597311e+04,  7.73131492e+05,  1.18792349e+05,\n",
       "        3.54327377e+05,  2.57162498e+05,  4.67764462e+05,  4.14169249e+04,\n",
       "        5.68329044e+05,  5.80057551e+04,  2.84879925e+05,  3.55389782e+05,\n",
       "        4.92654585e+05,  3.83508756e+05,  8.02275089e+05,  8.85031173e+04,\n",
       "        2.77456246e+05,  4.31106502e+05,  6.20100014e+05,  1.94763547e+04,\n",
       "        4.76382378e+05,  6.20212760e+05,  2.98580327e+05, -2.46001819e+05,\n",
       "        8.33807217e+05,  4.56635865e+05,  4.84134741e+05,  1.25721871e+06,\n",
       "        5.71949914e+05,  7.06661537e+05,  3.81789305e+05,  1.79578944e+05,\n",
       "        3.50871254e+05,  3.93130460e+05,  6.17640955e+05,  7.22759858e+05,\n",
       "        4.64351279e+05,  4.54125184e+05,  4.45507268e+05,  5.93224452e+05,\n",
       "        5.70600084e+05,  7.28312223e+05, -1.60628247e+05,  5.96670296e+05,\n",
       "        7.81156727e+05,  4.56302007e+05,  4.27136876e+05,  2.75083930e+04,\n",
       "        5.45243951e+05,  4.79305554e+05,  3.70556643e+05,  3.07241184e+05,\n",
       "        5.32025363e+05,  4.40709744e+05,  3.70977331e+05,  3.33773596e+05,\n",
       "        1.64795600e+06,  4.88519770e+05,  4.79270807e+05,  7.86721025e+05,\n",
       "        5.21527812e+05, -2.09034187e+02,  7.47770936e+05,  4.06064088e+05,\n",
       "        1.48749913e+06,  4.51137976e+05,  1.60418308e+05,  5.49306364e+05,\n",
       "        1.36794953e+06,  7.81156727e+05,  1.57629787e+06,  4.53758192e+05,\n",
       "        3.69405512e+05,  6.70703942e+05,  2.01836137e+05,  1.18792349e+05,\n",
       "        2.57479122e+05,  6.72962310e+05,  6.86984342e+05,  2.66097038e+05,\n",
       "        1.71546905e+05,  5.23197102e+05,  8.45813457e+05,  1.60418308e+05,\n",
       "        3.95256854e+05,  6.04353049e+05,  1.82345970e+04,  7.29685505e+05,\n",
       "        8.28242919e+05,  5.67982958e+05,  5.51173266e+04,  5.37297771e+05,\n",
       "        7.28085547e+05, -5.02877202e+04,  4.73224695e+05,  1.59248701e+06,\n",
       "       -3.01570200e+05, -1.91125609e+05,  1.60418308e+05,  2.88354232e+05,\n",
       "        6.75855745e+05,  2.43839845e+05,  2.20481596e+04,  1.57321750e+05,\n",
       "        3.96962130e+05,  5.26040376e+05,  5.01211377e+05,  6.92548640e+05,\n",
       "        6.52206016e+05,  2.60050927e+05,  6.09084163e+05,  6.05775600e+04,\n",
       "        3.96331084e+05,  1.37052133e+06,  4.17112111e+05,  4.23627822e+05,\n",
       "        2.04232332e+05,  4.18790429e+05,  4.43347959e+05,  5.33625334e+05,\n",
       "        1.57079729e+05,  5.28928804e+05,  6.00843995e+05,  3.19477076e+05,\n",
       "        1.72884048e+06,  4.48079073e+05,  6.46385746e+05,  1.41503572e+06,\n",
       "        2.12964734e+05,  3.39756136e+05,  1.17844896e+06,  1.46509776e+05,\n",
       "        2.37793733e+05,  3.37634481e+05,  5.80780845e+05, -8.42763478e+04,\n",
       "        3.00128606e+05,  4.26242568e+05,  7.47770936e+05,  5.34389037e+05,\n",
       "        4.56635865e+05,  1.29153996e+06,  1.34068446e+06,  1.22675736e+06,\n",
       "        5.11512075e+05,  4.68142210e+05,  4.92593460e+05,  1.66464420e+05,\n",
       "        4.42996588e+05,  6.30995272e+05, -5.87739769e+03,  7.46478544e+05,\n",
       "        9.20721142e+05,  3.82173713e+05,  5.73694100e+05, -2.54800632e+05,\n",
       "        5.21165133e+05,  4.67064097e+05,  1.28365376e+05,  1.45077476e+06,\n",
       "        4.57530173e+05,  8.28347538e+04,  1.47921951e+06,  1.29895223e+06,\n",
       "        1.67021319e+06,  6.06924854e+05,  7.51843641e+05,  3.84720674e+05,\n",
       "        1.71514008e+06,  1.76690515e+05,  5.49306364e+05,  4.74337555e+05,\n",
       "        5.80721651e+04,  3.90558655e+05,  7.00684743e+05,  5.65056875e+05,\n",
       "        2.57162498e+05,  1.42101251e+06,  5.96854225e+05,  2.07504501e+05,\n",
       "        2.67945010e+05,  7.84495306e+05,  1.61199840e+06,  1.01782830e+05,\n",
       "        4.68877321e+05,  4.75900565e+05,  1.39074163e+06,  5.03396741e+05,\n",
       "        4.92593460e+05,  5.16779185e+05,  6.12276972e+05,  3.47103804e+05,\n",
       "        3.43936812e+04,  6.06512359e+05,  3.74111213e+05,  3.93820417e+05,\n",
       "        7.64463831e+05,  6.11972592e+05,  6.42469954e+05,  8.28242919e+05,\n",
       "        1.01608899e+06,  5.31683325e+05,  4.79270807e+05,  7.81156727e+05,\n",
       "        8.07795095e+04,  4.12499225e+05,  3.16556557e+05,  3.43155839e+05,\n",
       "        7.96670728e+05,  2.74688578e+05,  5.45725764e+05,  6.06062208e+05,\n",
       "        1.63981990e+06,  3.20837521e+05,  1.84344792e+05,  1.51413316e+06,\n",
       "        2.90401283e+05,  8.54065587e+04,  6.70187381e+05,  2.04932696e+05,\n",
       "        5.19302093e+05,  4.26242568e+05, -2.52935729e+05, -2.09034187e+02,\n",
       "        1.73399228e+06,  4.87090286e+05,  1.65908460e+06,  6.53252465e+05,\n",
       "        4.25129708e+05,  1.33017505e+05,  5.34597167e+05,  3.71293955e+05,\n",
       "       -1.13376311e+04,  1.24460713e+05,  2.29761695e+05,  5.34115354e+05,\n",
       "        1.19552384e+06,  1.29920946e+05,  3.15755036e+05, -1.00049783e+05,\n",
       "        5.52469333e+05,  6.09917348e+05, -2.50363924e+05,  1.79578944e+05,\n",
       "        5.12339974e+05, -6.72600931e+05,  2.06798851e+05,  5.25437971e+05,\n",
       "        3.61313534e+05,  2.53131748e+05,  4.14169249e+04,  7.68203048e+04,\n",
       "        5.43153959e+05,  3.18326840e+05,  6.26197747e+05,  7.83702574e+05,\n",
       "        1.21336830e+06,  6.92961136e+05, -5.36083709e+03,  5.50869374e+05,\n",
       "        5.65653174e+05,  5.92330144e+05,  7.49205426e+05,  4.21056017e+05,\n",
       "        2.36277071e+03,  6.10617712e+05,  1.85667996e+05,  3.28601329e+04,\n",
       "        6.78427550e+05,  6.05053413e+05,  1.40203159e+06,  4.68142210e+05,\n",
       "        4.04126345e+05,  8.33807217e+05,  1.22049690e+05,  2.02844932e+05,\n",
       "        3.93024918e+05,  4.57013613e+05,  7.09241535e+05,  5.73547257e+05,\n",
       "        4.31106502e+05,  5.15228402e+05,  7.58899533e+05,  7.75592428e+05,\n",
       "        1.71514008e+06,  3.87292479e+05,  4.56635865e+05,  3.04101685e+05,\n",
       "        4.78586647e+05,  1.65908460e+06, -5.24093745e+04,  4.09927420e+05,\n",
       "        1.71338775e+05,  6.03940554e+05,  7.01864013e+05,  3.20941586e+05,\n",
       "        4.32280486e+05,  1.55634244e+06,  6.28769552e+05,  5.86765845e+05,\n",
       "        4.73328760e+05,  6.93030870e+05, -1.13376311e+04,  5.96563031e+05,\n",
       "        3.73969825e+05, -4.43027331e+04,  6.33913162e+05,  2.99105081e+05,\n",
       "        8.64018435e+05,  1.60210178e+05,  5.80780845e+05,  6.56170356e+05,\n",
       "        5.46468097e+05,  2.70237139e+05,  6.46976442e+04,  5.98722341e+05,\n",
       "        4.26242568e+05,  4.51071566e+05,  2.62622732e+05,  3.57485614e+04,\n",
       "        3.15755036e+05,  6.34333851e+05,  2.29553564e+05,  4.09927420e+05,\n",
       "        1.37710964e+05,  2.54590693e+05,  2.60005397e+05,  2.68144089e+05,\n",
       "        5.77075759e+05,  5.21527812e+05,  4.17235625e+05,  5.84255165e+05,\n",
       "        4.89978715e+05,  7.84728631e+05,  3.51712631e+05, -1.96522964e+05,\n",
       "        6.45358383e+05,  4.98639572e+05,  2.83185764e+05,  7.81156727e+05,\n",
       "        3.80467269e+05,  9.19903440e+05,  6.14685410e+05,  2.84177932e+05,\n",
       "        7.56223663e+05,  8.28242919e+05,  4.70056591e+05,  3.40206286e+05,\n",
       "        2.54065940e+05, -2.40783606e+05,  3.28601329e+04,  6.64727148e+05,\n",
       "        5.96225153e+05,  2.37854857e+05,  5.58033631e+05,  4.46960221e+05,\n",
       "        4.93075273e+05,  7.03848242e+05, -8.66176111e+03,  4.13399805e+05,\n",
       "       -1.41467611e+05,  1.62201414e+06,  5.05181002e+05,  5.17212101e+05,\n",
       "        6.53598551e+05,  6.86984342e+05,  1.60418308e+05,  5.28928804e+05,\n",
       "        3.90558655e+05,  4.87029162e+05,  5.37854201e+05,  4.68142210e+05,\n",
       "        5.40124797e+05, -6.64558618e+04,  3.73488012e+05,  6.42469954e+05,\n",
       "        7.40747692e+05,  3.43155839e+05,  4.26724381e+05,  4.66081373e+05,\n",
       "        1.38862079e+06,  1.64537600e+06,  8.46461170e+05,  5.15708293e+05,\n",
       "        2.60928040e+05, -2.01937582e+05,  3.28601329e+04,  2.77456246e+05,\n",
       "        3.82173713e+05, -7.34791054e+04,  1.74330766e+06,  5.28928804e+05])"
      ]
     },
     "execution_count": 186,
     "metadata": {},
     "output_type": "execute_result"
    }
   ],
   "source": [
    "y_pred_test"
   ]
  },
  {
   "cell_type": "markdown",
   "id": "14971c03",
   "metadata": {},
   "source": [
    "#####  Model Evaluation "
   ]
  },
  {
   "cell_type": "code",
   "execution_count": 187,
   "id": "46b2ce1a",
   "metadata": {},
   "outputs": [
    {
     "name": "stdout",
     "output_type": "stream",
     "text": [
      "0.4706444934865691\n"
     ]
    }
   ],
   "source": [
    "from sklearn.metrics import r2_score\n",
    "\n",
    "score=r2_score(y_test,y_pred_test)\n",
    "print(score)"
   ]
  },
  {
   "cell_type": "markdown",
   "id": "edfbc339",
   "metadata": {},
   "source": [
    "### 2.Lasso Regression "
   ]
  },
  {
   "cell_type": "code",
   "execution_count": 220,
   "id": "4a3ce41f",
   "metadata": {},
   "outputs": [],
   "source": [
    "from sklearn.linear_model import Lasso"
   ]
  },
  {
   "cell_type": "code",
   "execution_count": 221,
   "id": "f49b9387",
   "metadata": {},
   "outputs": [],
   "source": [
    "# loading the linear regression model\n",
    "lass_reg_model = Lasso()"
   ]
  },
  {
   "cell_type": "code",
   "execution_count": 222,
   "id": "480f33e9",
   "metadata": {},
   "outputs": [
    {
     "data": {
      "text/html": [
       "<style>#sk-container-id-16 {color: black;background-color: white;}#sk-container-id-16 pre{padding: 0;}#sk-container-id-16 div.sk-toggleable {background-color: white;}#sk-container-id-16 label.sk-toggleable__label {cursor: pointer;display: block;width: 100%;margin-bottom: 0;padding: 0.3em;box-sizing: border-box;text-align: center;}#sk-container-id-16 label.sk-toggleable__label-arrow:before {content: \"▸\";float: left;margin-right: 0.25em;color: #696969;}#sk-container-id-16 label.sk-toggleable__label-arrow:hover:before {color: black;}#sk-container-id-16 div.sk-estimator:hover label.sk-toggleable__label-arrow:before {color: black;}#sk-container-id-16 div.sk-toggleable__content {max-height: 0;max-width: 0;overflow: hidden;text-align: left;background-color: #f0f8ff;}#sk-container-id-16 div.sk-toggleable__content pre {margin: 0.2em;color: black;border-radius: 0.25em;background-color: #f0f8ff;}#sk-container-id-16 input.sk-toggleable__control:checked~div.sk-toggleable__content {max-height: 200px;max-width: 100%;overflow: auto;}#sk-container-id-16 input.sk-toggleable__control:checked~label.sk-toggleable__label-arrow:before {content: \"▾\";}#sk-container-id-16 div.sk-estimator input.sk-toggleable__control:checked~label.sk-toggleable__label {background-color: #d4ebff;}#sk-container-id-16 div.sk-label input.sk-toggleable__control:checked~label.sk-toggleable__label {background-color: #d4ebff;}#sk-container-id-16 input.sk-hidden--visually {border: 0;clip: rect(1px 1px 1px 1px);clip: rect(1px, 1px, 1px, 1px);height: 1px;margin: -1px;overflow: hidden;padding: 0;position: absolute;width: 1px;}#sk-container-id-16 div.sk-estimator {font-family: monospace;background-color: #f0f8ff;border: 1px dotted black;border-radius: 0.25em;box-sizing: border-box;margin-bottom: 0.5em;}#sk-container-id-16 div.sk-estimator:hover {background-color: #d4ebff;}#sk-container-id-16 div.sk-parallel-item::after {content: \"\";width: 100%;border-bottom: 1px solid gray;flex-grow: 1;}#sk-container-id-16 div.sk-label:hover label.sk-toggleable__label {background-color: #d4ebff;}#sk-container-id-16 div.sk-serial::before {content: \"\";position: absolute;border-left: 1px solid gray;box-sizing: border-box;top: 0;bottom: 0;left: 50%;z-index: 0;}#sk-container-id-16 div.sk-serial {display: flex;flex-direction: column;align-items: center;background-color: white;padding-right: 0.2em;padding-left: 0.2em;position: relative;}#sk-container-id-16 div.sk-item {position: relative;z-index: 1;}#sk-container-id-16 div.sk-parallel {display: flex;align-items: stretch;justify-content: center;background-color: white;position: relative;}#sk-container-id-16 div.sk-item::before, #sk-container-id-16 div.sk-parallel-item::before {content: \"\";position: absolute;border-left: 1px solid gray;box-sizing: border-box;top: 0;bottom: 0;left: 50%;z-index: -1;}#sk-container-id-16 div.sk-parallel-item {display: flex;flex-direction: column;z-index: 1;position: relative;background-color: white;}#sk-container-id-16 div.sk-parallel-item:first-child::after {align-self: flex-end;width: 50%;}#sk-container-id-16 div.sk-parallel-item:last-child::after {align-self: flex-start;width: 50%;}#sk-container-id-16 div.sk-parallel-item:only-child::after {width: 0;}#sk-container-id-16 div.sk-dashed-wrapped {border: 1px dashed gray;margin: 0 0.4em 0.5em 0.4em;box-sizing: border-box;padding-bottom: 0.4em;background-color: white;}#sk-container-id-16 div.sk-label label {font-family: monospace;font-weight: bold;display: inline-block;line-height: 1.2em;}#sk-container-id-16 div.sk-label-container {text-align: center;}#sk-container-id-16 div.sk-container {/* jupyter's `normalize.less` sets `[hidden] { display: none; }` but bootstrap.min.css set `[hidden] { display: none !important; }` so we also need the `!important` here to be able to override the default hidden behavior on the sphinx rendered scikit-learn.org. See: https://github.com/scikit-learn/scikit-learn/issues/21755 */display: inline-block !important;position: relative;}#sk-container-id-16 div.sk-text-repr-fallback {display: none;}</style><div id=\"sk-container-id-16\" class=\"sk-top-container\"><div class=\"sk-text-repr-fallback\"><pre>Lasso()</pre><b>In a Jupyter environment, please rerun this cell to show the HTML representation or trust the notebook. <br />On GitHub, the HTML representation is unable to render, please try loading this page with nbviewer.org.</b></div><div class=\"sk-container\" hidden><div class=\"sk-item\"><div class=\"sk-estimator sk-toggleable\"><input class=\"sk-toggleable__control sk-hidden--visually\" id=\"sk-estimator-id-24\" type=\"checkbox\" checked><label for=\"sk-estimator-id-24\" class=\"sk-toggleable__label sk-toggleable__label-arrow\">Lasso</label><div class=\"sk-toggleable__content\"><pre>Lasso()</pre></div></div></div></div></div>"
      ],
      "text/plain": [
       "Lasso()"
      ]
     },
     "execution_count": 222,
     "metadata": {},
     "output_type": "execute_result"
    }
   ],
   "source": [
    "lass_reg_model.fit(x_train,y_train)"
   ]
  },
  {
   "cell_type": "code",
   "execution_count": 227,
   "id": "bb04b0bc",
   "metadata": {},
   "outputs": [],
   "source": [
    "# prediction on Training data\n",
    "training_data_prediction = lass_reg_model.predict(x_train)"
   ]
  },
  {
   "cell_type": "code",
   "execution_count": 228,
   "id": "c7e20e78",
   "metadata": {},
   "outputs": [
    {
     "name": "stdout",
     "output_type": "stream",
     "text": [
      "R squared Error :  0.00015044399482233572\n"
     ]
    }
   ],
   "source": [
    "# R squared Error\n",
    "error_score = metrics.r2_score(y_train, training_data_prediction)\n",
    "print(\"R squared Error : \", error_score)"
   ]
  },
  {
   "cell_type": "markdown",
   "id": "6575619e",
   "metadata": {},
   "source": [
    "## 3. RandomForestRegressor model "
   ]
  },
  {
   "cell_type": "code",
   "execution_count": 198,
   "id": "42784abb",
   "metadata": {},
   "outputs": [],
   "source": [
    "from sklearn.ensemble import RandomForestRegressor\n",
    "\n",
    "rf_reg = RandomForestRegressor()"
   ]
  },
  {
   "cell_type": "code",
   "execution_count": 199,
   "id": "f7438e23",
   "metadata": {},
   "outputs": [
    {
     "data": {
      "text/html": [
       "<style>#sk-container-id-13 {color: black;background-color: white;}#sk-container-id-13 pre{padding: 0;}#sk-container-id-13 div.sk-toggleable {background-color: white;}#sk-container-id-13 label.sk-toggleable__label {cursor: pointer;display: block;width: 100%;margin-bottom: 0;padding: 0.3em;box-sizing: border-box;text-align: center;}#sk-container-id-13 label.sk-toggleable__label-arrow:before {content: \"▸\";float: left;margin-right: 0.25em;color: #696969;}#sk-container-id-13 label.sk-toggleable__label-arrow:hover:before {color: black;}#sk-container-id-13 div.sk-estimator:hover label.sk-toggleable__label-arrow:before {color: black;}#sk-container-id-13 div.sk-toggleable__content {max-height: 0;max-width: 0;overflow: hidden;text-align: left;background-color: #f0f8ff;}#sk-container-id-13 div.sk-toggleable__content pre {margin: 0.2em;color: black;border-radius: 0.25em;background-color: #f0f8ff;}#sk-container-id-13 input.sk-toggleable__control:checked~div.sk-toggleable__content {max-height: 200px;max-width: 100%;overflow: auto;}#sk-container-id-13 input.sk-toggleable__control:checked~label.sk-toggleable__label-arrow:before {content: \"▾\";}#sk-container-id-13 div.sk-estimator input.sk-toggleable__control:checked~label.sk-toggleable__label {background-color: #d4ebff;}#sk-container-id-13 div.sk-label input.sk-toggleable__control:checked~label.sk-toggleable__label {background-color: #d4ebff;}#sk-container-id-13 input.sk-hidden--visually {border: 0;clip: rect(1px 1px 1px 1px);clip: rect(1px, 1px, 1px, 1px);height: 1px;margin: -1px;overflow: hidden;padding: 0;position: absolute;width: 1px;}#sk-container-id-13 div.sk-estimator {font-family: monospace;background-color: #f0f8ff;border: 1px dotted black;border-radius: 0.25em;box-sizing: border-box;margin-bottom: 0.5em;}#sk-container-id-13 div.sk-estimator:hover {background-color: #d4ebff;}#sk-container-id-13 div.sk-parallel-item::after {content: \"\";width: 100%;border-bottom: 1px solid gray;flex-grow: 1;}#sk-container-id-13 div.sk-label:hover label.sk-toggleable__label {background-color: #d4ebff;}#sk-container-id-13 div.sk-serial::before {content: \"\";position: absolute;border-left: 1px solid gray;box-sizing: border-box;top: 0;bottom: 0;left: 50%;z-index: 0;}#sk-container-id-13 div.sk-serial {display: flex;flex-direction: column;align-items: center;background-color: white;padding-right: 0.2em;padding-left: 0.2em;position: relative;}#sk-container-id-13 div.sk-item {position: relative;z-index: 1;}#sk-container-id-13 div.sk-parallel {display: flex;align-items: stretch;justify-content: center;background-color: white;position: relative;}#sk-container-id-13 div.sk-item::before, #sk-container-id-13 div.sk-parallel-item::before {content: \"\";position: absolute;border-left: 1px solid gray;box-sizing: border-box;top: 0;bottom: 0;left: 50%;z-index: -1;}#sk-container-id-13 div.sk-parallel-item {display: flex;flex-direction: column;z-index: 1;position: relative;background-color: white;}#sk-container-id-13 div.sk-parallel-item:first-child::after {align-self: flex-end;width: 50%;}#sk-container-id-13 div.sk-parallel-item:last-child::after {align-self: flex-start;width: 50%;}#sk-container-id-13 div.sk-parallel-item:only-child::after {width: 0;}#sk-container-id-13 div.sk-dashed-wrapped {border: 1px dashed gray;margin: 0 0.4em 0.5em 0.4em;box-sizing: border-box;padding-bottom: 0.4em;background-color: white;}#sk-container-id-13 div.sk-label label {font-family: monospace;font-weight: bold;display: inline-block;line-height: 1.2em;}#sk-container-id-13 div.sk-label-container {text-align: center;}#sk-container-id-13 div.sk-container {/* jupyter's `normalize.less` sets `[hidden] { display: none; }` but bootstrap.min.css set `[hidden] { display: none !important; }` so we also need the `!important` here to be able to override the default hidden behavior on the sphinx rendered scikit-learn.org. See: https://github.com/scikit-learn/scikit-learn/issues/21755 */display: inline-block !important;position: relative;}#sk-container-id-13 div.sk-text-repr-fallback {display: none;}</style><div id=\"sk-container-id-13\" class=\"sk-top-container\"><div class=\"sk-text-repr-fallback\"><pre>RandomForestRegressor()</pre><b>In a Jupyter environment, please rerun this cell to show the HTML representation or trust the notebook. <br />On GitHub, the HTML representation is unable to render, please try loading this page with nbviewer.org.</b></div><div class=\"sk-container\" hidden><div class=\"sk-item\"><div class=\"sk-estimator sk-toggleable\"><input class=\"sk-toggleable__control sk-hidden--visually\" id=\"sk-estimator-id-17\" type=\"checkbox\" checked><label for=\"sk-estimator-id-17\" class=\"sk-toggleable__label sk-toggleable__label-arrow\">RandomForestRegressor</label><div class=\"sk-toggleable__content\"><pre>RandomForestRegressor()</pre></div></div></div></div></div>"
      ],
      "text/plain": [
       "RandomForestRegressor()"
      ]
     },
     "execution_count": 199,
     "metadata": {},
     "output_type": "execute_result"
    }
   ],
   "source": [
    "rf_reg.fit(x_train , y_train)"
   ]
  },
  {
   "cell_type": "code",
   "execution_count": 200,
   "id": "a9c59c24",
   "metadata": {},
   "outputs": [],
   "source": [
    "y_pred = rf_reg.predict(x_test)"
   ]
  },
  {
   "cell_type": "code",
   "execution_count": 201,
   "id": "a1cddfc1",
   "metadata": {},
   "outputs": [
    {
     "data": {
      "text/plain": [
       "0.9200178476362554"
      ]
     },
     "execution_count": 201,
     "metadata": {},
     "output_type": "execute_result"
    }
   ],
   "source": [
    "rf_reg.score(x_train , y_train)"
   ]
  },
  {
   "cell_type": "code",
   "execution_count": 202,
   "id": "e8a4ea7f",
   "metadata": {},
   "outputs": [
    {
     "data": {
      "text/plain": [
       "0.6576466626053902"
      ]
     },
     "execution_count": 202,
     "metadata": {},
     "output_type": "execute_result"
    }
   ],
   "source": [
    "rf_reg.score(x_test , y_test)"
   ]
  },
  {
   "cell_type": "markdown",
   "id": "601b752b",
   "metadata": {},
   "source": [
    "## save  model and load Model "
   ]
  },
  {
   "cell_type": "code",
   "execution_count": 125,
   "id": "ac6d5ac0",
   "metadata": {},
   "outputs": [],
   "source": [
    "import pickle\n",
    "\n",
    "pickle.dump(rf_reg,open('rf_regressor.pkl','wb'))"
   ]
  },
  {
   "cell_type": "code",
   "execution_count": 126,
   "id": "c3269c26",
   "metadata": {},
   "outputs": [],
   "source": [
    "model =pickle.load(open('rf_regressor.pkl','rb'))"
   ]
  },
  {
   "cell_type": "code",
   "execution_count": 127,
   "id": "3d929fbf",
   "metadata": {},
   "outputs": [
    {
     "data": {
      "text/plain": [
       "array([ 428048.11507936,  739899.49494949,  338404.52380952,\n",
       "        622983.24603175,  396617.99603175,  725256.89121656,\n",
       "        229999.        ,   91082.38095238,  455933.33333333,\n",
       "        127503.985     ,  632763.85642136,  112658.33333333,\n",
       "        150860.71428571,  335661.9047619 ,  730200.        ,\n",
       "        905163.66325758,  337016.91082265,  132386.96428571,\n",
       "        671500.        ,  440699.99      ,  623871.9047619 ,\n",
       "        543759.99      ,  447200.        ,  461091.65666667,\n",
       "        809760.        ,  360543.39744951,  169198.75      ,\n",
       "        148703.0624127 ,  595710.        ,  253686.56746032,\n",
       "        671409.10714286,  229712.18635939,  153825.        ,\n",
       "        612349.4047619 ,  349427.08      ,  528246.10298701,\n",
       "        362941.33333333,  739899.49494949,  330099.96      ,\n",
       "        215308.65079365,  124720.        ,  234564.21052632,\n",
       "        346471.42857143,  163570.        ,  566726.66666667,\n",
       "        377934.28571429,  194553.86593617,  767449.20634921,\n",
       "        468370.53961111,  371520.21259027,  346482.004218  ,\n",
       "        325672.32142857,   91755.        ,  252150.        ,\n",
       "        935392.85714286,  121279.15666667,  299353.33333333,\n",
       "        588664.64285714,  342100.        ,  455671.78571429,\n",
       "        211222.5       ,  286364.66089466,  189400.99206349,\n",
       "        463629.85      ,  232311.66666667,  184766.07142857,\n",
       "        324749.99      ,  324029.84      ,  464714.22760223,\n",
       "        300965.83270896,  433083.15666667,  670000.        ,\n",
       "        578641.49666667,  415396.78071429,  437510.03904762,\n",
       "        273813.66594517,  250481.34848485,  464714.22760223,\n",
       "        104890.78095238,   82176.        ,  248556.82861905,\n",
       "        272331.98412698,  115640.89285714,  355989.9047619 ,\n",
       "        262499.13571429,  670000.        ,  643619.85294118,\n",
       "        107717.71428571,  359450.09904762,  530134.61997806,\n",
       "        362523.27380952,  720874.52380952,  167665.67428571,\n",
       "        428995.94047619,  436865.29220779,  212152.61904762,\n",
       "        388600.        ,  946902.23686003,  488300.        ,\n",
       "        796237.10909091,  287405.43350502,  551416.25      ,\n",
       "        323975.35714286,  727543.53535354,  724224.81683983,\n",
       "        555020.91269841,   76090.        ,  529493.45272727,\n",
       "        249507.35531136,  620346.07142857,  292881.88616939,\n",
       "        867458.61111111,  718111.42857143,  760000.        ,\n",
       "        524197.5       ,  257746.96636364,  280600.        ,\n",
       "        315697.65466667,   45466.66666667,  130919.98      ,\n",
       "        368966.41657143,  247338.45238095,  136449.93      ,\n",
       "         83972.22222222,  273778.        ,  635602.4524087 ,\n",
       "        357759.3452381 ,  253315.22558442,  199659.97      ,\n",
       "        252933.33333333,  141274.77777778,  457190.        ,\n",
       "        347799.94      ,  191975.        ,  115790.        ,\n",
       "        464417.67857143,  520000.        ,  247338.45238095,\n",
       "        190586.31887843,  238994.01244589,  369171.42857143,\n",
       "        439715.29220779,  238575.        ,  214944.68228571,\n",
       "        535795.78333333,  514646.16666667,  151450.        ,\n",
       "        500614.98666667,   58482.33333333,  357759.3452381 ,\n",
       "        261186.29996304,  137118.92177267,  381636.25777778,\n",
       "        577166.60166667,  733940.        ,  270669.99      ,\n",
       "        203733.33333333,   48140.        ,  518681.9047619 ,\n",
       "        539276.65510702,  605845.62229437,  396349.91      ,\n",
       "         64626.66666667,  474578.33333333,  130919.98      ,\n",
       "        529541.79761905,  382534.99333333,  294869.99      ,\n",
       "        467319.68253968,  346787.38095238,  866300.        ,\n",
       "        718219.93      ,  844347.62987013,  650410.        ,\n",
       "        645694.55167749,  491441.66666667,  658650.        ,\n",
       "        138078.39221429,  542390.        ,  254261.81950938,\n",
       "        237788.05555556,  377987.95238095,  310997.62626263,\n",
       "        212489.31424204,  211222.5       ,  671409.10714286,\n",
       "        736944.77114286,  364281.4531302 ,  179858.88888889,\n",
       "        163191.66666667,  337851.57142857,  650258.32333333,\n",
       "        241320.83333333,  522969.64285714,  529541.79761905,\n",
       "        310477.31746032,  416776.66666667,  260637.79803938,\n",
       "        117993.33333333,  549249.935     ,  135057.5       ,\n",
       "        351287.5       ,  415220.47809524,   73535.        ,\n",
       "        686745.45232179,  703625.23809524,  505800.2523865 ,\n",
       "        389218.47770713,  396617.99603175,  433083.15666667,\n",
       "        170494.60237049,  441420.19809524,  111698.29761905,\n",
       "        315324.53560329,  331280.26545635,   80865.8008658 ,\n",
       "        274999.12489286,  949899.995     ,   80000.        ,\n",
       "        236725.        ,  251174.788     ,  246410.80257605,\n",
       "         90836.66666667,  308209.99      ,   73789.        ,\n",
       "        727543.53535354,  450000.        ,  321600.5       ,\n",
       "        364754.988     ,  854341.65922619,  213895.23238095,\n",
       "        152908.28333333,  600000.        ,   89420.        ,\n",
       "         72820.        ,  105848.33333333,  151032.33227778,\n",
       "         77023.33333333,  389218.47770713,  366570.77380952,\n",
       "        304245.75396825,  635602.4524087 ,  150364.16666667,\n",
       "        160660.        ,  576912.5       ,  349679.89524365,\n",
       "        101883.33333333,  170524.99      ,  994190.        ,\n",
       "        558276.61666667,  211222.5       ,  108030.        ,\n",
       "        450737.5       ,  749830.        ,  301936.78571429,\n",
       "        528132.71428571,  539276.65510702,  247814.5       ,\n",
       "        686745.45232179,  159165.23809524,  274959.28571429,\n",
       "        463137.37068487,  297974.36645138,  138078.39221429,\n",
       "        366286.66666667,  536864.16208791,  275341.76357143,\n",
       "        667670.        ,  540945.5501443 ,  214051.0361039 ,\n",
       "        209442.45238095,  328249.99      ,  285140.        ,\n",
       "        876090.6537673 ,  488864.82518651,  522410.14868465,\n",
       "        213688.92650794,  183333.33333333,  196140.254329  ,\n",
       "        349632.61904762,  181914.61111111,  217853.84472222,\n",
       "        121709.64940476,  359223.95825397,  185208.73015873,\n",
       "        259197.31883333,  295831.52958153,  250481.34848485,\n",
       "        623520.        ,  545860.31746032,  377934.28571429,\n",
       "        383352.48      ,  556946.82539683,  277676.66666667,\n",
       "        151493.30058333,  819108.33333333,  859592.81746032,\n",
       "        226500.823     ,  417200.        ,  254692.72003219,\n",
       "        238898.33333333,  266138.52178571,  603731.42857143,\n",
       "        651620.23809524,  480949.30666667,  664205.        ,\n",
       "        166029.85      ,  845370.23809524,  521208.0952381 ,\n",
       "        166450.        ,   71479.98      ,  322600.        ,\n",
       "        428048.11507936,  448323.33333333,  370322.26190476,\n",
       "        274999.12489286,  331280.26545635,  141733.33333333,\n",
       "        425957.15354743,  350071.41338095,  949600.        ,\n",
       "        564280.        ,  419727.19483002,  170524.99      ,\n",
       "        156024.35571429,  613801.22835498,  247521.9047619 ,\n",
       "        627162.93475541,  188568.32333333,  157125.        ,\n",
       "        459941.66333333,  658600.        ,  229500.        ,\n",
       "        408904.17571429,  415220.47809524,  207641.49206349,\n",
       "        257524.96248196,  194553.86593617,  569204.79256854,\n",
       "        249986.24151515,  735888.72471148,  818391.38888889,\n",
       "        513027.32595238,   88530.        ,  293850.79365079,\n",
       "        296458.92357143,  194553.86593617,  397541.64133333,\n",
       "        311074.00573283,  505978.33      ,  202614.61190476,\n",
       "        238575.        ,  470799.97      ,  373088.33333333,\n",
       "        159165.23809524,  376604.76190476,  230146.66666667,\n",
       "        272331.98412698,  832448.66666667,  382534.99333333,\n",
       "        464714.22760223,  529541.79761905,  306000.        ,\n",
       "        213052.04113636,  771347.60597046,  926960.        ,\n",
       "        297974.36645138,  600000.        ,  388350.        ,\n",
       "        434466.85297546,  626700.        ,  180085.66666667,\n",
       "        229999.        ,  127692.31833333,  221135.71428571,\n",
       "        149690.80333333,   73563.33333333,  252900.        ,\n",
       "        589150.        ,  121679.37444444,  725256.89121656,\n",
       "        356677.66666667,  571439.10991786,  118960.05952381,\n",
       "        303200.        ,  280878.75274725,  336933.93238095,\n",
       "        390977.5       ,  571563.01016667,   89021.66666667,\n",
       "         94150.        ,  871627.        ,  472830.03052503,\n",
       "        248184.01731602,  100328.07833333,  313550.        ,\n",
       "         87490.        ,  389402.5       ,  583540.        ,\n",
       "        623871.9047619 ,  402562.84714286, 1002433.73015873,\n",
       "        460129.28571429,  125387.77111111,  343413.33624709,\n",
       "        455840.        ,  274999.12489286,  199584.99666667,\n",
       "         90873.57142857,  237788.05555556,   90986.        ,\n",
       "        720104.9855    ,  335864.98329004,  264418.43930736,\n",
       "        146709.93      ,  150509.96      ,  635602.4524087 ,\n",
       "         84819.92      ,  321434.92166667,  455933.33333333,\n",
       "         53290.        ,   93902.84714286,  530134.61997806,\n",
       "        125337.77111111,  354211.66666667,  120325.        ,\n",
       "        438366.63666667,  419727.19483002,  404299.40747222,\n",
       "        349427.08      ,  233633.99447763,  396462.5       ,\n",
       "        530134.61997806,  600000.        ,  280878.75274725,\n",
       "        379320.        ,  220725.        ,  446183.30333333,\n",
       "        859592.81746032,  334850.        ,  750000.        ,\n",
       "        304532.14285714,  196085.8015873 ,  439499.87      ,\n",
       "        876090.6537673 ,  123996.66666667,  193299.3947619 ,\n",
       "        156707.38419913,  613801.22835498,  261186.29996304,\n",
       "        619670.        ,  472741.90292857,  359223.95825397,\n",
       "        274999.12489286,   90873.57142857,  437510.03904762,\n",
       "        433715.        ,  301017.6984127 ,  504652.48      ,\n",
       "        292881.88616939,  636616.82562698,  888059.16583333,\n",
       "        401946.75      ,  344963.99509524,  819108.33333333,\n",
       "        312153.33333333,  474578.33333333,  542750.        ,\n",
       "        510708.28846429,  510524.20634921,  531178.46190476,\n",
       "        212228.45      ,  694038.30333333,  221920.        ,\n",
       "        535000.        ,  535000.        ,  691051.98412698,\n",
       "        330873.75      ,  217099.12766667,  411185.04570513,\n",
       "        221674.98166667,  112858.33333333,  591290.82792208,\n",
       "        397005.14190848,  146066.64502165,  625000.        ,\n",
       "        331280.26545635,   87270.        ,  316940.        ,\n",
       "        151412.5       ,  100328.07833333,  217853.84472222,\n",
       "        106250.        ,  321600.5       ,  137118.92177267,\n",
       "        492740.15873016,  285778.91208125,  163501.67925   ,\n",
       "        354211.66666667,  141266.66666667,  264829.55      ,\n",
       "        602700.        ,  513962.38095238,  388293.18333333,\n",
       "        106250.        ,  812764.46969697,  220399.98      ,\n",
       "        767449.20634921,  176069.34176934,  111340.17388167,\n",
       "        727826.48809524,  494800.        ,  696951.37666667,\n",
       "        460129.28571429,  434466.85297546,   86509.96      ,\n",
       "        695779.98      ,  604815.82833333,  623200.        ,\n",
       "        727826.48809524,  107840.        ,  705250.        ,\n",
       "        611337.95680538,  155681.549     ,  116099.99      ,\n",
       "        672858.86363636,  378571.98412698,  686745.45232179,\n",
       "        452119.96031746,  272910.        ,  385000.        ,\n",
       "        630410.        ,  521416.66666667,  712299.83211233,\n",
       "        254074.40079365,  211168.92650794,  185208.73015873,\n",
       "        195784.67401587,  262766.66666667,  286364.66089466,\n",
       "        102696.30730519,  648343.75866667,  229999.        ,\n",
       "        383120.        ,  890180.        ,  523892.97619048,\n",
       "        383008.58967421,  132873.1447619 ,  818330.        ,\n",
       "        321409.99      ,  217107.5       ,   58306.66666667,\n",
       "        512032.53968254,  280110.795     ,  730464.99      ,\n",
       "        439499.87      ,  276154.28571429,   93900.        ,\n",
       "        178229.94416667,  767995.83333333,  666901.26380952,\n",
       "        303086.38888889,  586240.        ,  286850.        ,\n",
       "        337802.68807143,  168717.60428571,  464800.        ,\n",
       "        815952.326     ,  450000.        ,  393649.99      ,\n",
       "         97190.73412698,  289157.67907032,  266700.        ,\n",
       "        357759.3452381 ,  604295.6025    ,  225414.41305916,\n",
       "        180826.92857143,  352833.0975    ,  150860.71428571,\n",
       "        434466.85297546,  454394.74206349,  149723.998     ,\n",
       "        316163.33333333,  211704.45238095,  261214.22077922,\n",
       "        437510.03904762,  343376.76046176,   74857.61904762,\n",
       "        633070.7915    ,  112050.9       ,  399874.04761905,\n",
       "        472683.33333333,  231471.23457318,  231471.23457318,\n",
       "        162004.18831169,  751849.58433333,  254074.40079365,\n",
       "        428995.94047619,  535060.41666667,  675988.03891667,\n",
       "        410212.4725    ,  477686.52919385,  132140.        ,\n",
       "        330131.04589855,  876090.6537673 ,   71580.        ,\n",
       "        556618.00822243,  633070.7915    ,  697009.99      ,\n",
       "        103945.99      ,  297394.4047619 ,  407341.58730159,\n",
       "        266551.65666667,  593400.        ,  311074.00573283,\n",
       "        134487.06349206,  830651.19047619,  215946.66666667,\n",
       "        450000.        ,  407645.81583333,  319482.87333333,\n",
       "        182498.45460534,  552006.28767217,  249407.56404762,\n",
       "        677150.        ,  467319.68253968,   85725.23809524,\n",
       "        632763.85642136,  525741.07142857,  513750.        ,\n",
       "        408904.17571429,  195784.67401587,  279086.9047619 ,\n",
       "        591526.19047619,  143794.11832612,  195262.95314286,\n",
       "        168207.37095238,  114756.48448773,  411054.19047619,\n",
       "        618250.        ,  356677.66666667,  638423.33333333,\n",
       "        301936.78571429,  593608.25147149,  268469.86095238,\n",
       "        479194.99      ,  535000.        ,  415220.47809524,\n",
       "        830680.        ,  286350.        ,  167060.5952381 ,\n",
       "        234672.91      ,  341339.01761905,  445890.89985248,\n",
       "        389402.5       ,  249350.        ,  312086.25666667,\n",
       "        325672.32142857,  571609.41558442,  343413.33624709,\n",
       "        329250.        ,  454499.98833333,  218541.07142857,\n",
       "        595416.63492063,  337016.91082265,  477686.52919385,\n",
       "        189054.08730159,  269366.30952381,  890180.        ,\n",
       "        751950.        ,  461091.65666667,  149350.        ,\n",
       "        300965.83270896,  686745.45232179,  767449.20634921,\n",
       "        801618.80952381,   61578.6031746 ,  377934.28571429,\n",
       "        670705.22809524,  791633.98266667,  473536.42857143,\n",
       "         87310.58333333,  564280.        ,  454499.98833333,\n",
       "        174109.36507937,  332900.84838961,  808093.33333333,\n",
       "        453711.28952381,  445812.96897547,  503567.5       ,\n",
       "        521208.0952381 , 1003509.99      ,  536729.26190476,\n",
       "        330099.96      ,   77480.        ,  446025.71428571,\n",
       "        181914.61111111,  571563.01016667,  472830.03052503,\n",
       "        123701.65666667,  419727.19483002,  100681.28968254,\n",
       "        261214.22077922,  619226.        ,  146614.16666667,\n",
       "        492740.15873016,  517651.2979243 ,  195914.28571429,\n",
       "        143716.6575    ,  425957.15354743,  111698.29761905,\n",
       "        177683.31333333,  540760.43314529,  399874.04761905,\n",
       "        315324.53560329,  254692.72003219,  441682.7734881 ,\n",
       "        195784.67401587,  215946.66666667,  458502.61904762,\n",
       "        780420.01984127,  359941.60756517,  625000.        ,\n",
       "        304425.63686147,  330532.37095238,  750000.        ,\n",
       "        316227.07833333,  815052.5       ,  407341.58730159,\n",
       "        323441.65666667,  349207.59727273,  611337.95680538,\n",
       "        574362.5       ,  632763.85642136,  467728.28      ,\n",
       "        248556.82861905,   69420.        ,  742618.42280303,\n",
       "        100328.07833333,  323975.35714286,  523246.48761905,\n",
       "        385000.        ,  132150.        ,  383495.23809524,\n",
       "        357441.8641027 ,  714749.994     ,  512032.53968254,\n",
       "         96875.83333333,  353563.98809524,  128000.71428571,\n",
       "        306089.99      ,  540945.5501443 ,  753898.46100733,\n",
       "        230440.81712964,  343413.33624709,  784501.31566667,\n",
       "        579425.        ,  635602.4524087 ,  257524.96248196,\n",
       "        772224.16266667,  237931.49666667,  589150.        ,\n",
       "        312142.68064935,   75356.66666667,  487292.75777778,\n",
       "        474700.61871795,  522410.14868465,  274479.27833333,\n",
       "        249507.35531136,  326223.24333333,  228514.52238095,\n",
       "        346787.38095238,   89946.65666667,  448266.50333333,\n",
       "        343568.60805861,  571563.01016667,  180300.        ,\n",
       "        343413.33624709,  854341.65922619,  527905.00016667,\n",
       "        352854.97      ,  344187.37470862,  339464.04484404,\n",
       "        345298.1034127 ,  521416.66666667,  214372.5       ,\n",
       "        506455.9527417 ,  454499.98833333,  528246.10298701,\n",
       "        519650.        ,  247835.33333333,  253480.        ,\n",
       "        107039.99      ])"
      ]
     },
     "execution_count": 127,
     "metadata": {},
     "output_type": "execute_result"
    }
   ],
   "source": [
    "model.predict(x_test)"
   ]
  },
  {
   "cell_type": "code",
   "execution_count": null,
   "id": "c964347b",
   "metadata": {},
   "outputs": [],
   "source": []
  },
  {
   "cell_type": "code",
   "execution_count": null,
   "id": "8e20c70a",
   "metadata": {},
   "outputs": [],
   "source": []
  }
 ],
 "metadata": {
  "kernelspec": {
   "display_name": "Python 3 (ipykernel)",
   "language": "python",
   "name": "python3"
  },
  "language_info": {
   "codemirror_mode": {
    "name": "ipython",
    "version": 3
   },
   "file_extension": ".py",
   "mimetype": "text/x-python",
   "name": "python",
   "nbconvert_exporter": "python",
   "pygments_lexer": "ipython3",
   "version": "3.10.9"
  }
 },
 "nbformat": 4,
 "nbformat_minor": 5
}
